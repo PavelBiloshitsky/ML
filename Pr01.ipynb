{
  "nbformat": 4,
  "nbformat_minor": 0,
  "metadata": {
    "colab": {
      "name": "Копия блокнота \"Копия блокнота \"Pr01_Numpy.ipynb\"\"",
      "provenance": [],
      "collapsed_sections": []
    },
    "kernelspec": {
      "name": "python3",
      "display_name": "Python 3"
    }
  },
  "cells": [
    {
      "cell_type": "markdown",
      "metadata": {
        "id": "-JUOp2KEdHTn"
      },
      "source": [
        "# Numpy\n"
      ]
    },
    {
      "cell_type": "markdown",
      "metadata": {
        "id": "oTtiG3HMz-Rt"
      },
      "source": [
        "Numpy - это библиотека для математических вычислений. Написана на языке С, поэтому считается наиболее предпочтительным вариантом при работе с многомерными массивами из-за производительности.\n",
        "\n",
        "[Официальный сайт](https://numpy.org/doc/stable/) последней версии.\n",
        "\n",
        "Начало работы с `numpy` заключается в подключении модуля. При этом в практике применения есть уже общепринятое сокращение для него под названием `np`:"
      ]
    },
    {
      "cell_type": "code",
      "metadata": {
        "id": "2HARN7afZ1Fk"
      },
      "source": [
        "import numpy as np"
      ],
      "execution_count": null,
      "outputs": []
    },
    {
      "cell_type": "markdown",
      "metadata": {
        "id": "81-wHdEbg-qI"
      },
      "source": [
        "> Если вы ранее работали с MATLAB, обратите внимание, как некоторые подходы и функции схожи."
      ]
    },
    {
      "cell_type": "markdown",
      "metadata": {
        "id": "woHgRbgPZ99s"
      },
      "source": [
        "# Создание массивов"
      ]
    },
    {
      "cell_type": "markdown",
      "metadata": {
        "id": "DVVfQ6DwaBUH"
      },
      "source": [
        "Для того, чтобы начать работать с `numpy`, мы должны научиться создавать объекты `ndarray`, которые по сути являются N-мерными массивами."
      ]
    },
    {
      "cell_type": "code",
      "metadata": {
        "id": "kQqPek1xZ2y7"
      },
      "source": [
        "# Самый просто способ создать массив numpy - взять уже существующий list и передать в функцию np.array()\n",
        "arr_1d = np.array([1, 2, 3])"
      ],
      "execution_count": null,
      "outputs": []
    },
    {
      "cell_type": "code",
      "metadata": {
        "id": "7thycVOKbCJ7",
        "colab": {
          "base_uri": "https://localhost:8080/"
        },
        "outputId": "bde23291-7c10-4239-ccfa-344e3397193b"
      },
      "source": [
        "# Теперь проверим \n",
        "#   - тип объекта c помощью функции type()\n",
        "#   - размерность с помощью аттрибута .shape\n",
        "#   - доступ по индексам, как у обычного list\n",
        "\n",
        "# Для отладки можно выводить небольшие массивы прямо через print()\n",
        "\n",
        "print(arr_1d)\n",
        "print(type(arr_1d))\n",
        "print(arr_1d.shape)\n",
        "print(arr_1d[0])\n",
        "print(arr_1d[2])\n",
        "print(arr_1d[-1])"
      ],
      "execution_count": null,
      "outputs": [
        {
          "output_type": "stream",
          "text": [
            "[1 2 3]\n",
            "<class 'numpy.ndarray'>\n",
            "(3,)\n",
            "1\n",
            "3\n",
            "3\n"
          ],
          "name": "stdout"
        }
      ]
    },
    {
      "cell_type": "markdown",
      "metadata": {
        "id": "90qAyGF8bLLs"
      },
      "source": [
        "> Обратите внимание, индекс с отрицательным значением означает индексацию с конца. Это возможность языка Python. В данном случае индекс -1 ~ 2, так как 2 - последний индекс в массиве из трех элементов. Аналогично, если хотите взять второй элемент с конца, то можете использовать индекс -2 и т.д."
      ]
    },
    {
      "cell_type": "markdown",
      "metadata": {
        "id": "GlDZi0V_bijd"
      },
      "source": [
        "Как видите, объект имеет тип `np.ndarray`, таким образом описываются все массивы при работе с numpy. Размерность представляет собой кортеж с одним элементом (создали 1D массив ~ массив первого ранга в терминах numpy)."
      ]
    },
    {
      "cell_type": "code",
      "metadata": {
        "id": "WfMA2hmgcPFH"
      },
      "source": [
        "# Теперь создадим двумерный массив с помощью тех же list\n",
        "arr_2d = np.array([[1, 2, 3], [4, 5, 6]])"
      ],
      "execution_count": null,
      "outputs": []
    },
    {
      "cell_type": "code",
      "metadata": {
        "id": "ljaLlNS2cdvd",
        "colab": {
          "base_uri": "https://localhost:8080/"
        },
        "outputId": "2e6c6555-ef1a-4b18-a578-1b8eface2a9c"
      },
      "source": [
        "# Проверим также тип, размерность и доступ по индексам\n",
        "\n",
        "print(arr_2d)\n",
        "print(type(arr_2d))\n",
        "print(arr_2d.shape)\n",
        "print(arr_2d[0, 0])\n",
        "print(arr_2d[1, 2])\n",
        "print(arr_2d[1, 0])"
      ],
      "execution_count": null,
      "outputs": [
        {
          "output_type": "stream",
          "text": [
            "[[1 2 3]\n",
            " [4 5 6]]\n",
            "<class 'numpy.ndarray'>\n",
            "(2, 3)\n",
            "1\n",
            "6\n",
            "4\n"
          ],
          "name": "stdout"
        }
      ]
    },
    {
      "cell_type": "markdown",
      "metadata": {
        "id": "wQKPgHh7cOlh"
      },
      "source": [
        "Теперь видно, что в кортеже размерности стало два элемента, при этом тип объекта никак не поменялся.\n",
        "\n",
        "Индексация в 2D массиве делается уже посредством двух индексов:\n",
        "- первый индекс - номер ряда (строки);\n",
        "- второй индекс - номер колонки (столбца).\n",
        "\n",
        "> В 1D массивах вообще никаких вопросов не возникает, в 2D (ряд, колонка), если разворачивать до 3D массивов, то можно интерпретировать как (ряд, колонка, глубина). Дальнейшие размерности уже сложнее в визуальной интерпретации, поэтому вместо названий для каждой размерности идет просто индексация."
      ]
    },
    {
      "cell_type": "markdown",
      "metadata": {
        "id": "zeUwMz9aem4U"
      },
      "source": [
        "Помимо способов создания массивов из уже существующих представлений в виде `list`, можно также создавать массивы по-другому. Рассмотрим некоторые из них:\n"
      ]
    },
    {
      "cell_type": "code",
      "metadata": {
        "id": "W8EnLNXlf6HW",
        "colab": {
          "base_uri": "https://localhost:8080/"
        },
        "outputId": "4ed08ef8-decf-40a2-e1cd-ca121271f4d3"
      },
      "source": [
        "# Создание массива фиксированного размера\n",
        "np.ndarray((5, 3))"
      ],
      "execution_count": null,
      "outputs": [
        {
          "output_type": "execute_result",
          "data": {
            "text/plain": [
              "array([[1.67831807e-316, 1.01855798e-312, 1.03977794e-312],\n",
              "       [9.54898106e-313, 1.03977794e-312, 1.03977794e-312],\n",
              "       [1.23075756e-312, 1.03977794e-312, 1.03977794e-312],\n",
              "       [9.76118064e-313, 1.03977794e-312, 1.14587773e-312],\n",
              "       [1.16709769e-312, 4.44659081e-322, 0.00000000e+000]])"
            ]
          },
          "metadata": {
            "tags": []
          },
          "execution_count": 7
        }
      ]
    },
    {
      "cell_type": "markdown",
      "metadata": {
        "id": "IAHEQ5N2gUP_"
      },
      "source": [
        "В представленном способе мы напрямую вызываем конструктор и передаем ему размерность. Какими числами будет заполнен массив - никто не знает. Вероятнее всего, это будут нули, но для уверенности лучше самостоятельно заполнить такой массив данными."
      ]
    },
    {
      "cell_type": "code",
      "metadata": {
        "id": "U4fnZoDMgJc6",
        "colab": {
          "base_uri": "https://localhost:8080/"
        },
        "outputId": "a2fc4058-8f53-497f-8b9f-aaad411d0101"
      },
      "source": [
        "# Явное создание массива нулей\n",
        "np.zeros((2, 3))"
      ],
      "execution_count": null,
      "outputs": [
        {
          "output_type": "execute_result",
          "data": {
            "text/plain": [
              "array([[0., 0., 0.],\n",
              "       [0., 0., 0.]])"
            ]
          },
          "metadata": {
            "tags": []
          },
          "execution_count": 8
        }
      ]
    },
    {
      "cell_type": "code",
      "metadata": {
        "id": "AaJSBHSdgtCY",
        "colab": {
          "base_uri": "https://localhost:8080/"
        },
        "outputId": "c5c3b559-c1dc-475a-928b-e92f160f1712"
      },
      "source": [
        "# Явное создание массива единиц\n",
        "np.ones((3, 2))"
      ],
      "execution_count": null,
      "outputs": [
        {
          "output_type": "execute_result",
          "data": {
            "text/plain": [
              "array([[1., 1.],\n",
              "       [1., 1.],\n",
              "       [1., 1.]])"
            ]
          },
          "metadata": {
            "tags": []
          },
          "execution_count": 9
        }
      ]
    },
    {
      "cell_type": "code",
      "metadata": {
        "id": "8_elMSoK7wQL",
        "colab": {
          "base_uri": "https://localhost:8080/"
        },
        "outputId": "aa93379a-775b-41da-be9e-cfd34e80cc28"
      },
      "source": [
        "# Создание массива, заполненного константным значением\n",
        "np.full((3, 4), 5)"
      ],
      "execution_count": null,
      "outputs": [
        {
          "output_type": "execute_result",
          "data": {
            "text/plain": [
              "array([[5, 5, 5, 5],\n",
              "       [5, 5, 5, 5],\n",
              "       [5, 5, 5, 5]])"
            ]
          },
          "metadata": {
            "tags": []
          },
          "execution_count": 10
        }
      ]
    },
    {
      "cell_type": "code",
      "metadata": {
        "id": "iNN2C908gwUB",
        "colab": {
          "base_uri": "https://localhost:8080/"
        },
        "outputId": "a4886131-9b5c-4dab-f860-97da9f3a609d"
      },
      "source": [
        "# 2D массив с единичной главной диагональю\n",
        "# (*) В этой функции размерность задается не кортежем, а отдельными аргументами\n",
        "np.eye(3, 2)"
      ],
      "execution_count": null,
      "outputs": [
        {
          "output_type": "execute_result",
          "data": {
            "text/plain": [
              "array([[1., 0.],\n",
              "       [0., 1.],\n",
              "       [0., 0.]])"
            ]
          },
          "metadata": {
            "tags": []
          },
          "execution_count": 11
        }
      ]
    },
    {
      "cell_type": "code",
      "metadata": {
        "id": "x8cGz7nIhbbE",
        "colab": {
          "base_uri": "https://localhost:8080/"
        },
        "outputId": "625a09b2-6cc9-44bc-aeb4-867880a976ce"
      },
      "source": [
        "# Создание массива нулей с такой же размерностью, как уже существующий\n",
        "arr_2d = np.array([[1, 2, 3], [4, 5, 6]])\n",
        "\n",
        "np.zeros_like(arr_2d)"
      ],
      "execution_count": null,
      "outputs": [
        {
          "output_type": "execute_result",
          "data": {
            "text/plain": [
              "array([[0, 0, 0],\n",
              "       [0, 0, 0]])"
            ]
          },
          "metadata": {
            "tags": []
          },
          "execution_count": 12
        }
      ]
    },
    {
      "cell_type": "code",
      "metadata": {
        "id": "BqDTBiWzhj9R",
        "colab": {
          "base_uri": "https://localhost:8080/"
        },
        "outputId": "fd8eb130-720c-45b3-f480-82a7f467bf70"
      },
      "source": [
        "# Создание массива единиц с такой же размерностью, как уже существующий\n",
        "arr_2d = np.array([[1, 2, 3], [4, 5, 6]])\n",
        "\n",
        "np.ones_like(arr_2d)"
      ],
      "execution_count": null,
      "outputs": [
        {
          "output_type": "execute_result",
          "data": {
            "text/plain": [
              "array([[1, 1, 1],\n",
              "       [1, 1, 1]])"
            ]
          },
          "metadata": {
            "tags": []
          },
          "execution_count": 13
        }
      ]
    },
    {
      "cell_type": "code",
      "metadata": {
        "id": "MOqhVLYL7flG",
        "colab": {
          "base_uri": "https://localhost:8080/"
        },
        "outputId": "088c4b39-fb4c-4147-e683-019d51c15b96"
      },
      "source": [
        "# Создание массива со случайными значениями в интервале [0; 1.0)\n",
        "np.random.random((2,2))"
      ],
      "execution_count": null,
      "outputs": [
        {
          "output_type": "execute_result",
          "data": {
            "text/plain": [
              "array([[0.65015633, 0.25165485],\n",
              "       [0.48149151, 0.41573384]])"
            ]
          },
          "metadata": {
            "tags": []
          },
          "execution_count": 14
        }
      ]
    },
    {
      "cell_type": "code",
      "metadata": {
        "id": "PwWoeq26zmFm",
        "colab": {
          "base_uri": "https://localhost:8080/"
        },
        "outputId": "87fcf593-db5e-46ed-941e-97fcd3b80f5e"
      },
      "source": [
        "# Аналог функции range\n",
        "np.arange(start=1, stop=10, step=1.5)"
      ],
      "execution_count": null,
      "outputs": [
        {
          "output_type": "execute_result",
          "data": {
            "text/plain": [
              "array([1. , 2.5, 4. , 5.5, 7. , 8.5])"
            ]
          },
          "metadata": {
            "tags": []
          },
          "execution_count": 15
        }
      ]
    },
    {
      "cell_type": "code",
      "metadata": {
        "id": "adlhJ7Hnz-z9",
        "colab": {
          "base_uri": "https://localhost:8080/"
        },
        "outputId": "6429c16c-2254-4fd9-acfe-c7b41b4b4865"
      },
      "source": [
        "# Также создание диапазона значений, но уже с заданием количества элементов\n",
        "# (*) stop уже входит в создаваемый диапазон\n",
        "np.linspace(start=1, stop=2, num=10)"
      ],
      "execution_count": null,
      "outputs": [
        {
          "output_type": "execute_result",
          "data": {
            "text/plain": [
              "array([1.        , 1.11111111, 1.22222222, 1.33333333, 1.44444444,\n",
              "       1.55555556, 1.66666667, 1.77777778, 1.88888889, 2.        ])"
            ]
          },
          "metadata": {
            "tags": []
          },
          "execution_count": 16
        }
      ]
    },
    {
      "cell_type": "markdown",
      "metadata": {
        "id": "S-szHgm6hq7X"
      },
      "source": [
        "# Хитрая индексация"
      ]
    },
    {
      "cell_type": "markdown",
      "metadata": {
        "id": "LYFlLDO5huxy"
      },
      "source": [
        "Индексация в Python не ограничивается заданием конкретных индексов для получения значений в контейнерах (стандартных или массивов `ndarray`). Существуют специальные символы и подходы для работы с диапазонами данных, которые не только упрощают и улучшают код, но и выполняются более быстро, нежели проходы по массивам циклом.\n",
        "\n",
        "Начнем со знакомства с символом `:`, который позволяет задавать диапазон индексов для чтения/записи контейнеров."
      ]
    },
    {
      "cell_type": "code",
      "metadata": {
        "id": "9UClHM52huJi"
      },
      "source": [
        "# Для начала на простом списке (1D массива)\n",
        "# Следующее создание массива можно заменить list(range(1, 11))\n",
        "arr = [1, 2, 3, 4, 5, 6, 7, 8, 9, 10]"
      ],
      "execution_count": null,
      "outputs": []
    },
    {
      "cell_type": "code",
      "metadata": {
        "id": "eltg4vei7P2R",
        "colab": {
          "base_uri": "https://localhost:8080/"
        },
        "outputId": "4c63d665-13b1-4414-a774-217a65279db1"
      },
      "source": [
        "# Простая индексация\n",
        "print(arr[0])\n",
        "print(arr[-2])\n",
        "print(arr[5])"
      ],
      "execution_count": null,
      "outputs": [
        {
          "output_type": "stream",
          "text": [
            "1\n",
            "9\n",
            "6\n"
          ],
          "name": "stdout"
        }
      ]
    },
    {
      "cell_type": "markdown",
      "metadata": {
        "id": "dzWHdiZw8GlN"
      },
      "source": [
        "Для получения подмассива (части массива) или записи в подмассив используется нотация $$index_{start}:index_{end}:step$$\n",
        "\n",
        "- $index_{start}$ - индекс начала подмассива\n",
        "- $index_{end}$ - индекс конца подмассива\n",
        "- $step$ - шаг подмассива"
      ]
    },
    {
      "cell_type": "code",
      "metadata": {
        "id": "w3x1hjul7ZnM",
        "colab": {
          "base_uri": "https://localhost:8080/"
        },
        "outputId": "0dcae5cf-9067-4c04-a085-2ad8c3ae9c48"
      },
      "source": [
        "# Получение части массива от 2го элемента до 6го (не включительно) \n",
        "#   с шагом 2 \n",
        "print(arr[2:8:2])"
      ],
      "execution_count": null,
      "outputs": [
        {
          "output_type": "stream",
          "text": [
            "[3, 5, 7]\n"
          ],
          "name": "stdout"
        }
      ]
    },
    {
      "cell_type": "code",
      "metadata": {
        "id": "UeghJuRp9XSG",
        "colab": {
          "base_uri": "https://localhost:8080/"
        },
        "outputId": "11126bd7-d21e-413a-a8ed-27efb2baf418"
      },
      "source": [
        "# Если шаг не задан, то он равен единице (при этом второй раз : не пишется)\n",
        "print(arr[2:8])"
      ],
      "execution_count": null,
      "outputs": [
        {
          "output_type": "stream",
          "text": [
            "[3, 4, 5, 6, 7, 8]\n"
          ],
          "name": "stdout"
        }
      ]
    },
    {
      "cell_type": "code",
      "metadata": {
        "id": "f2et5vq_9YQ0",
        "colab": {
          "base_uri": "https://localhost:8080/"
        },
        "outputId": "717ace5e-20f2-4e6e-876d-47ccb2da5218"
      },
      "source": [
        "# Шаг может быть и отрицательным (индексы меняются местами)\n",
        "print(arr[8:2:-1])"
      ],
      "execution_count": null,
      "outputs": [
        {
          "output_type": "stream",
          "text": [
            "[9, 8, 7, 6, 5, 4]\n"
          ],
          "name": "stdout"
        }
      ]
    },
    {
      "cell_type": "code",
      "metadata": {
        "id": "THxAw6mR9ZK1",
        "colab": {
          "base_uri": "https://localhost:8080/"
        },
        "outputId": "96b759dd-6dac-44fd-935a-9d2b1a8c1f16"
      },
      "source": [
        "# Если не задавать index_start или index_end, \n",
        "#   то они будут равны индексу начала и конца массива\n",
        "print(arr[2:])\n",
        "print(arr[:8])"
      ],
      "execution_count": null,
      "outputs": [
        {
          "output_type": "stream",
          "text": [
            "[3, 4, 5, 6, 7, 8, 9, 10]\n",
            "[1, 2, 3, 4, 5, 6, 7, 8]\n"
          ],
          "name": "stdout"
        }
      ]
    },
    {
      "cell_type": "code",
      "metadata": {
        "id": "Ti3t0ZVa9gfe",
        "colab": {
          "base_uri": "https://localhost:8080/"
        },
        "outputId": "09f3bc0e-9dec-4308-bf11-352fbc09d863"
      },
      "source": [
        "# Можно комбинировать один из индексов и шаг\n",
        "print(arr[2::2])\n",
        "print(arr[:8:3])"
      ],
      "execution_count": null,
      "outputs": [
        {
          "output_type": "stream",
          "text": [
            "[3, 5, 7, 9]\n",
            "[1, 4, 7]\n"
          ],
          "name": "stdout"
        }
      ]
    },
    {
      "cell_type": "code",
      "metadata": {
        "id": "xj257QBQ-LsQ",
        "colab": {
          "base_uri": "https://localhost:8080/"
        },
        "outputId": "45d911f6-201e-4dd2-a3d7-ed2b386d9932"
      },
      "source": [
        "# И не забываем, что все трюки работают и на запись\n",
        "new_arr = list(range(1, 11))\n",
        "\n",
        "new_arr[1:5] = arr[:4]\n",
        "print(new_arr)"
      ],
      "execution_count": null,
      "outputs": [
        {
          "output_type": "stream",
          "text": [
            "[1, 1, 2, 3, 4, 6, 7, 8, 9, 10]\n"
          ],
          "name": "stdout"
        }
      ]
    },
    {
      "cell_type": "code",
      "metadata": {
        "id": "UiQHCjYPAreX",
        "colab": {
          "base_uri": "https://localhost:8080/"
        },
        "outputId": "f90255f8-ac86-466a-d788-203c9375a9e9"
      },
      "source": [
        "# Не самая полезная, но все же запись (получить весь диапазон)\n",
        "print(arr[:])"
      ],
      "execution_count": null,
      "outputs": [
        {
          "output_type": "stream",
          "text": [
            "[1, 2, 3, 4, 5, 6, 7, 8, 9, 10]\n"
          ],
          "name": "stdout"
        }
      ]
    },
    {
      "cell_type": "markdown",
      "metadata": {
        "id": "Y1CX7Bpi91aI"
      },
      "source": [
        "## Задание\n",
        "\n",
        "Объясните результат операции:"
      ]
    },
    {
      "cell_type": "code",
      "metadata": {
        "id": "HRS-xvPK97di",
        "colab": {
          "base_uri": "https://localhost:8080/"
        },
        "outputId": "a508abca-03c1-42db-8b3b-e4d144141a68"
      },
      "source": [
        "print(arr[:5:-2])"
      ],
      "execution_count": null,
      "outputs": [
        {
          "output_type": "stream",
          "text": [
            "[10, 8]\n"
          ],
          "name": "stdout"
        }
      ]
    },
    {
      "cell_type": "markdown",
      "metadata": {
        "id": "QuFpDSf5awVd"
      },
      "source": [
        "Если задан отрицательный шаг, то index_start и index_end меняются местами, то есть[index_end:index_start:-2]\n",
        "\n",
        "Если index_end не задан, он равняется индексу конца массива"
      ]
    },
    {
      "cell_type": "markdown",
      "metadata": {
        "id": "CmTGLk0n_K8w"
      },
      "source": [
        "## Задание\n",
        "\n",
        "Получите перевернутый список:"
      ]
    },
    {
      "cell_type": "code",
      "metadata": {
        "id": "7XJaNnuf_TUl",
        "colab": {
          "base_uri": "https://localhost:8080/"
        },
        "outputId": "816774c5-db5f-47ae-8a5e-a9d7a685c2a5"
      },
      "source": [
        "data = list(range(10))\n",
        "print(data)\n",
        "\n",
        "# TODO - [9, 8, 7, 6, 5, 4, 3, 2, 1, 0]\n",
        "print(data[::-1])"
      ],
      "execution_count": null,
      "outputs": [
        {
          "output_type": "stream",
          "text": [
            "[0, 1, 2, 3, 4, 5, 6, 7, 8, 9]\n",
            "[9, 8, 7, 6, 5, 4, 3, 2, 1, 0]\n"
          ],
          "name": "stdout"
        }
      ]
    },
    {
      "cell_type": "markdown",
      "metadata": {
        "id": "TT3t4yG5B8XW"
      },
      "source": [
        "## Задание\n",
        "\n",
        "Получите массив без первого и двух последних элементов:"
      ]
    },
    {
      "cell_type": "code",
      "metadata": {
        "id": "evJXMrHrCFFj",
        "colab": {
          "base_uri": "https://localhost:8080/"
        },
        "outputId": "8b368511-8347-41ed-b7dc-f9df3cfaf5f0"
      },
      "source": [
        "data = list(range(10))\n",
        "print(data)\n",
        "\n",
        "# TODO - [1, 2, 3, 4, 5, 6, 7]\n",
        "print(data[1:8])"
      ],
      "execution_count": null,
      "outputs": [
        {
          "output_type": "stream",
          "text": [
            "[0, 1, 2, 3, 4, 5, 6, 7, 8, 9]\n",
            "[1, 2, 3, 4, 5, 6, 7]\n"
          ],
          "name": "stdout"
        }
      ]
    },
    {
      "cell_type": "markdown",
      "metadata": {
        "id": "yr_Sgpxeg7nG"
      },
      "source": [
        "# Хитрая индексация в матрицах"
      ]
    },
    {
      "cell_type": "markdown",
      "metadata": {
        "id": "4vzYWeA1_nL4"
      },
      "source": [
        "Работа с одномерными списками удобна даже через класс `list`, но 2D массивы уже удобнее использовать через библиотеку numpy. Использование numpy никак не ограничивает применение такой индексации, так что можно делать много классных штук:"
      ]
    },
    {
      "cell_type": "code",
      "metadata": {
        "id": "roSKMhOd_7HG",
        "colab": {
          "base_uri": "https://localhost:8080/"
        },
        "outputId": "1c7b7c2c-21d8-41df-fdab-76db4a83504f"
      },
      "source": [
        "arr = np.array([[1, 2, 3, 4], [5, 6, 7, 8], [9, 10, 11, 12]])\n",
        "print(arr)"
      ],
      "execution_count": null,
      "outputs": [
        {
          "output_type": "stream",
          "text": [
            "[[ 1  2  3  4]\n",
            " [ 5  6  7  8]\n",
            " [ 9 10 11 12]]\n"
          ],
          "name": "stdout"
        }
      ]
    },
    {
      "cell_type": "markdown",
      "metadata": {
        "id": "bw7Re8l_ASG0"
      },
      "source": [
        "В индексации numpy есть очень полезное правило: если последующие индексы не заданы, то они принимаются как \"весь диапазон\". Например, в двумерном массиве мы индексируем по двум числам $[3, 2]$. Если в 2D массиве задать индекс $[3]$, то это эквивалентно индексации $[3, :]$, то есть третий ряд, все колонки.\n",
        "\n",
        "В плане предшествующих индексов это не работает, поэтому, чтобы получить целую колонку, надо индексировать $[:, 2]$."
      ]
    },
    {
      "cell_type": "code",
      "metadata": {
        "id": "KhiA2r2-AK5d",
        "colab": {
          "base_uri": "https://localhost:8080/"
        },
        "outputId": "ac979c96-9636-4674-e71a-29658e835d46"
      },
      "source": [
        "# Получим вторую строку массива\n",
        "print(arr[2])\n",
        "print(arr[2, :])"
      ],
      "execution_count": null,
      "outputs": [
        {
          "output_type": "stream",
          "text": [
            "[ 9 10 11 12]\n",
            "[ 9 10 11 12]\n"
          ],
          "name": "stdout"
        }
      ]
    },
    {
      "cell_type": "code",
      "metadata": {
        "id": "dF2bEK7dBU5C",
        "colab": {
          "base_uri": "https://localhost:8080/"
        },
        "outputId": "2b8232df-c88a-447b-ef2d-90f291bf6b4c"
      },
      "source": [
        "# Получим первую колонку массива\n",
        "print(arr[:, 1])"
      ],
      "execution_count": null,
      "outputs": [
        {
          "output_type": "stream",
          "text": [
            "[ 2  6 10]\n"
          ],
          "name": "stdout"
        }
      ]
    },
    {
      "cell_type": "code",
      "metadata": {
        "id": "MjkcYLIUBoIZ",
        "colab": {
          "base_uri": "https://localhost:8080/"
        },
        "outputId": "029ebdae-d555-4123-d9b7-526f07a6239e"
      },
      "source": [
        "# Получить первые два элемента (первые две колонки) первого ряда\n",
        "print(arr[1, :2])"
      ],
      "execution_count": null,
      "outputs": [
        {
          "output_type": "stream",
          "text": [
            "[5 6]\n"
          ],
          "name": "stdout"
        }
      ]
    },
    {
      "cell_type": "code",
      "metadata": {
        "id": "nsjlZWVkC4JV",
        "colab": {
          "base_uri": "https://localhost:8080/"
        },
        "outputId": "21ea9daf-9ab6-4279-f0f1-24e0393520aa"
      },
      "source": [
        "# Можно повторять целые части массива\n",
        "#   (но при этом должны соотноситься размерности)\n",
        "# ndarray.copy() - функция копирования массива\n",
        "# Копируем, чтобы не изменить оригинальный\n",
        "new_arr = arr.copy()\n",
        "print(arr)\n",
        "\n",
        "new_arr[2, :] = arr[1, :]\n",
        "print(new_arr)"
      ],
      "execution_count": null,
      "outputs": [
        {
          "output_type": "stream",
          "text": [
            "[[ 1  2  3  4]\n",
            " [ 5  6  7  8]\n",
            " [ 9 10 11 12]]\n",
            "[[1 2 3 4]\n",
            " [5 6 7 8]\n",
            " [5 6 7 8]]\n"
          ],
          "name": "stdout"
        }
      ]
    },
    {
      "cell_type": "code",
      "metadata": {
        "id": "Cok9ET1xDpHL",
        "colab": {
          "base_uri": "https://localhost:8080/"
        },
        "outputId": "d427323f-6148-4b65-bd91-fdfa0ed69db7"
      },
      "source": [
        "# При этом, такая индексация - это новый массив со своей размерностью.\n",
        "print(arr[:2, :2])\n",
        "print(arr[:2, :2].shape)"
      ],
      "execution_count": null,
      "outputs": [
        {
          "output_type": "stream",
          "text": [
            "[[1 2]\n",
            " [5 6]]\n",
            "(2, 2)\n"
          ],
          "name": "stdout"
        }
      ]
    },
    {
      "cell_type": "code",
      "metadata": {
        "id": "cc0YJBmSEDlb",
        "colab": {
          "base_uri": "https://localhost:8080/"
        },
        "outputId": "baf40bf8-1ece-43e4-ffcd-9be702397bfb"
      },
      "source": [
        "# В качестве индексов можно также задавать другие массивы\n",
        "# Получаем первую и последнюю колонки\n",
        "print(arr[:, [0, -1]])"
      ],
      "execution_count": null,
      "outputs": [
        {
          "output_type": "stream",
          "text": [
            "[[ 1  4]\n",
            " [ 5  8]\n",
            " [ 9 12]]\n"
          ],
          "name": "stdout"
        }
      ]
    },
    {
      "cell_type": "code",
      "metadata": {
        "id": "296Ww5MDFaY4",
        "colab": {
          "base_uri": "https://localhost:8080/"
        },
        "outputId": "59268648-fa90-490d-d82f-b9d46ea699c0"
      },
      "source": [
        "# И таким образом никто не заставляет писать в том же порядке индексы\n",
        "# Перемешаем ряды\n",
        "print(arr[[2, 0, 1], :])"
      ],
      "execution_count": null,
      "outputs": [
        {
          "output_type": "stream",
          "text": [
            "[[ 9 10 11 12]\n",
            " [ 1  2  3  4]\n",
            " [ 5  6  7  8]]\n"
          ],
          "name": "stdout"
        }
      ]
    },
    {
      "cell_type": "code",
      "metadata": {
        "id": "RFkxEluyFpZb",
        "colab": {
          "base_uri": "https://localhost:8080/"
        },
        "outputId": "e3ed1f41-2dd8-4cfa-e0af-eaeee50b994a"
      },
      "source": [
        "# Также, можно комбинировать способы задания\n",
        "print(arr[[2, 0], [1, 3]])\n",
        "# То же самое, только первая запись дает массив\n",
        "print(arr[2, 1], arr[0, 3])"
      ],
      "execution_count": null,
      "outputs": [
        {
          "output_type": "stream",
          "text": [
            "[10  4]\n",
            "10 4\n"
          ],
          "name": "stdout"
        }
      ]
    },
    {
      "cell_type": "code",
      "metadata": {
        "id": "EKQkjUnxE4vN",
        "colab": {
          "base_uri": "https://localhost:8080/"
        },
        "outputId": "0160e601-ad81-4302-8014-34f76bcaadff"
      },
      "source": [
        "# Создаем список возможных индексов для рядов массива\n",
        "row_indices = list(range(arr.shape[0]))\n",
        "print(row_indices)\n",
        "\n",
        "# Переворачиваем его\n",
        "row_indices = list(reversed(row_indices))\n",
        "print(row_indices)\n",
        "\n",
        "# Используем для индексации\n",
        "print(arr[row_indices])"
      ],
      "execution_count": null,
      "outputs": [
        {
          "output_type": "stream",
          "text": [
            "[0, 1, 2]\n",
            "[2, 1, 0]\n",
            "[[ 9 10 11 12]\n",
            " [ 5  6  7  8]\n",
            " [ 1  2  3  4]]\n"
          ],
          "name": "stdout"
        }
      ]
    },
    {
      "cell_type": "markdown",
      "metadata": {
        "id": "4jVVCGMSCPWu"
      },
      "source": [
        "## Задание\n",
        "\n",
        "Получите массив без крайних рядов и колонок (по одной с каждой стороны)"
      ]
    },
    {
      "cell_type": "code",
      "metadata": {
        "id": "rJegDeQ6CcTD",
        "colab": {
          "base_uri": "https://localhost:8080/"
        },
        "outputId": "cc3e676b-f001-49a5-acb3-b9042a6b5d0b"
      },
      "source": [
        "data = np.random.randint(low=0, high=10, size=(5, 6))\n",
        "print(data)\n",
        "\n",
        "print(data[1:5,1:5])\n",
        "# TODO - центральная часть массива размером (4, 5)"
      ],
      "execution_count": null,
      "outputs": [
        {
          "output_type": "stream",
          "text": [
            "[[5 3 2 2 1 2]\n",
            " [8 4 7 3 8 2]\n",
            " [5 1 2 8 7 2]\n",
            " [8 4 2 8 2 7]\n",
            " [5 6 5 8 5 5]]\n",
            "[[4 7 3 8]\n",
            " [1 2 8 7]\n",
            " [4 2 8 2]\n",
            " [6 5 8 5]]\n"
          ],
          "name": "stdout"
        }
      ]
    },
    {
      "cell_type": "markdown",
      "metadata": {
        "id": "7R_2MeNRGsNq"
      },
      "source": [
        "## Задание\n",
        "\n",
        "Произведите перемешивание колонок с помощью функции `numpy.random.permutation()`:\n",
        "\n",
        "<details>\n",
        "<summary>Подсказка</summary>\n",
        "\n",
        "Перемешать колонки можно путем перемешивания списка возможных индексов колонок (`range(<col_count>)`) и затем индексацией этого списка по индексам колонок (`[:, cols]`).\n",
        "</details>"
      ]
    },
    {
      "cell_type": "code",
      "metadata": {
        "id": "EawZBVacHHk4",
        "colab": {
          "base_uri": "https://localhost:8080/"
        },
        "outputId": "f9e4cf42-ec29-498b-f7f4-7cd1db0d946c"
      },
      "source": [
        "data = np.random.randint(low=0, high=10, size=(2, 5))\n",
        "print(data)\n",
        "\n",
        "\n",
        "print(data[:,np.random.permutation(5)])\n",
        "# TODO - такой же массив, но со случайной перестановкой колонок"
      ],
      "execution_count": null,
      "outputs": [
        {
          "output_type": "stream",
          "text": [
            "[[7 5 3 2 2]\n",
            " [8 1 4 0 1]]\n",
            "[[2 2 7 3 5]\n",
            " [1 0 8 4 1]]\n"
          ],
          "name": "stdout"
        }
      ]
    },
    {
      "cell_type": "markdown",
      "metadata": {
        "id": "RKssiBX6IWQ4"
      },
      "source": [
        "# Типы данных в массивах"
      ]
    },
    {
      "cell_type": "markdown",
      "metadata": {
        "id": "1W373guIIYpQ"
      },
      "source": [
        "Массивы в numpy имеют не только размер, но и конкретный тип данных, которые хранятся внутри массива. При создании массива почти все функции создания имеют аргумент `dtype`, который означает, с каким типом создать данным массив. Также, класс `ndarray` имеет атрибут `dtype`, который означает тип хранимых данных. "
      ]
    },
    {
      "cell_type": "markdown",
      "metadata": {
        "id": "RkaZp3yUQ2l9"
      },
      "source": [
        "Подробнее можно прочитать в [документации](https://numpy.org/doc/stable/reference/arrays.dtypes.html)."
      ]
    },
    {
      "cell_type": "code",
      "metadata": {
        "id": "hhX2FD0xJC50",
        "colab": {
          "base_uri": "https://localhost:8080/"
        },
        "outputId": "0be5e7c4-9dad-4206-ace2-cab1186d7058"
      },
      "source": [
        "# Создадим массив без задания типа - тип будет определен автоматически\n",
        "arr = np.array([[1, 2, 3, 4], [5, 6, 7, 8], [9, 10, 11, 12]])\n",
        "print(arr.dtype)\n",
        "\n",
        "# int, так как все элементы являются целочисленными"
      ],
      "execution_count": null,
      "outputs": [
        {
          "output_type": "stream",
          "text": [
            "int64\n"
          ],
          "name": "stdout"
        }
      ]
    },
    {
      "cell_type": "code",
      "metadata": {
        "id": "pVSghFu5JQTO",
        "colab": {
          "base_uri": "https://localhost:8080/"
        },
        "outputId": "428b7998-a7a0-458a-905b-c49cfc1bd97f"
      },
      "source": [
        "# Изменим один элемент на вещественный\n",
        "arr = np.array([[1.5, 2, 3, 4], [5, 6, 7, 8], [9, 10, 11, 12]])\n",
        "print(arr.dtype)\n",
        "\n",
        "# Один из элементов float, поэтому весь массив будет float"
      ],
      "execution_count": null,
      "outputs": [
        {
          "output_type": "stream",
          "text": [
            "float64\n"
          ],
          "name": "stdout"
        }
      ]
    },
    {
      "cell_type": "code",
      "metadata": {
        "id": "OfAofWauJePj",
        "colab": {
          "base_uri": "https://localhost:8080/"
        },
        "outputId": "6d8a3731-b190-4ab2-f72d-c745c18aa64a"
      },
      "source": [
        "# Зададим явно тип массива\n",
        "# Хоть массив и содержит вещественные числа\n",
        "# мы создаем массив целочисленных, что приводит\n",
        "# к округлению\n",
        "arr = np.array([[1.1, 1.6, 2.4], [-1.7, 2.6, -1.2]], dtype=int)\n",
        "print(arr)\n",
        "print(arr.dtype)"
      ],
      "execution_count": null,
      "outputs": [
        {
          "output_type": "stream",
          "text": [
            "[[ 1  1  2]\n",
            " [-1  2 -1]]\n",
            "int64\n"
          ],
          "name": "stdout"
        }
      ]
    },
    {
      "cell_type": "code",
      "metadata": {
        "id": "Nj1UkwjDKBr1",
        "colab": {
          "base_uri": "https://localhost:8080/"
        },
        "outputId": "698da56c-c4e8-446c-e93b-a1e993aa778e"
      },
      "source": [
        "# Создаем массив вещественных\n",
        "arr = np.array([[1.1, 1.6, 2.4], [-1.7, 2.6, -1.2]])\n",
        "print(arr)\n",
        "print(arr.dtype)\n",
        "# Но в какой-то момент нам нужно привести массив к целочисленным\n",
        "# Воспользуемся методом ndarray.astype()\n",
        "arr = arr.astype(int)\n",
        "print(arr)\n",
        "print(arr.dtype)"
      ],
      "execution_count": null,
      "outputs": [
        {
          "output_type": "stream",
          "text": [
            "[[ 1.1  1.6  2.4]\n",
            " [-1.7  2.6 -1.2]]\n",
            "float64\n",
            "[[ 1  1  2]\n",
            " [-1  2 -1]]\n",
            "int64\n"
          ],
          "name": "stdout"
        }
      ]
    },
    {
      "cell_type": "code",
      "metadata": {
        "id": "4Zv5Ss7KKa77",
        "colab": {
          "base_uri": "https://localhost:8080/"
        },
        "outputId": "dc0061ae-7ee1-433a-b3b2-205c95556e99"
      },
      "source": [
        "# При этом попытки записать в целочисленный массив \n",
        "# вещественное число приводят к округлению\n",
        "arr = np.array([[1.1, 1.6, 2.4], [-1.7, 2.6, -1.2]], dtype=int)\n",
        "print(arr)\n",
        "\n",
        "arr[0, 1] = 10.12\n",
        "print(arr)"
      ],
      "execution_count": null,
      "outputs": [
        {
          "output_type": "stream",
          "text": [
            "[[ 1  1  2]\n",
            " [-1  2 -1]]\n",
            "[[ 1 10  2]\n",
            " [-1  2 -1]]\n"
          ],
          "name": "stdout"
        }
      ]
    },
    {
      "cell_type": "markdown",
      "metadata": {
        "id": "MVMN0qd7HlFu"
      },
      "source": [
        "# Булевы операции над массивами"
      ]
    },
    {
      "cell_type": "markdown",
      "metadata": {
        "id": "8CjSRYurH1mk"
      },
      "source": [
        "Массивы numpy поддерживают операции сравнения, которые генерируют так называемые маски."
      ]
    },
    {
      "cell_type": "code",
      "metadata": {
        "id": "buwe4r-2IDdO",
        "colab": {
          "base_uri": "https://localhost:8080/"
        },
        "outputId": "c15750d2-3e5c-4b28-a50c-70e3ad0722c0"
      },
      "source": [
        "arr = np.array([[1, 2, 3, 4], [5, 6, 7, 8], [9, 10, 11, 12]])\n",
        "print(arr)"
      ],
      "execution_count": null,
      "outputs": [
        {
          "output_type": "stream",
          "text": [
            "[[ 1  2  3  4]\n",
            " [ 5  6  7  8]\n",
            " [ 9 10 11 12]]\n"
          ],
          "name": "stdout"
        }
      ]
    },
    {
      "cell_type": "code",
      "metadata": {
        "id": "rGNfFg2RIJE5",
        "colab": {
          "base_uri": "https://localhost:8080/"
        },
        "outputId": "1ab613b2-ef8f-4303-cb2d-ba93313823c5"
      },
      "source": [
        "# Произведем сравнение с числом\n",
        "result = arr > 6\n",
        "print(result)\n",
        "print(result.dtype)"
      ],
      "execution_count": null,
      "outputs": [
        {
          "output_type": "stream",
          "text": [
            "[[False False False False]\n",
            " [False False  True  True]\n",
            " [ True  True  True  True]]\n",
            "bool\n"
          ],
          "name": "stdout"
        }
      ]
    },
    {
      "cell_type": "markdown",
      "metadata": {
        "id": "ZfYWaYzSIPlU"
      },
      "source": [
        "Как видно, в результате операции создается такой же массив, но с булевым типом. Так мы получаем маску элементов, которые соответсвуют условию булевого выражения.\n",
        "\n",
        "Как и с простым булевым типом, маски можно совмещать булевыми операциями:"
      ]
    },
    {
      "cell_type": "code",
      "metadata": {
        "id": "ruFSuJzwNoME",
        "colab": {
          "base_uri": "https://localhost:8080/"
        },
        "outputId": "95868d6a-47f8-4854-d737-06d75ef32532"
      },
      "source": [
        "result_1 = arr > 6\n",
        "result_2 = arr < 10\n",
        "print(result_1)\n",
        "print(result_2)\n",
        "\n",
        "\n",
        "# Следующие две операции идентичны, но для второй скобки обязательны!\n",
        "print(result_1 & result_2)\n",
        "print((arr > 6) & (arr < 10))"
      ],
      "execution_count": null,
      "outputs": [
        {
          "output_type": "stream",
          "text": [
            "[[False False False False]\n",
            " [False False  True  True]\n",
            " [ True  True  True  True]]\n",
            "[[ True  True  True  True]\n",
            " [ True  True  True  True]\n",
            " [ True False False False]]\n",
            "[[False False False False]\n",
            " [False False  True  True]\n",
            " [ True False False False]]\n",
            "[[False False False False]\n",
            " [False False  True  True]\n",
            " [ True False False False]]\n"
          ],
          "name": "stdout"
        }
      ]
    },
    {
      "cell_type": "markdown",
      "metadata": {
        "id": "q-2ToYvBLaLb"
      },
      "source": [
        "При работе с масками полезно помнить про функции `np.all()` и `np.any()`, которые имеют следующие описания:\n",
        "- `all` - проверка на то, что все элементы в массиве имеют значение True (аналог операции И);\n",
        "- `any` - проверка, что хотя бы один элемент в массиве имеет значение True (аналог операции ИЛИ)."
      ]
    },
    {
      "cell_type": "markdown",
      "metadata": {
        "id": "xOxMSvvfL0Yj"
      },
      "source": [
        "## Задание\n",
        "\n",
        "Определите, имеется ли хотя бы одно значение больше пяти и меньше восьми в массиве:"
      ]
    },
    {
      "cell_type": "code",
      "metadata": {
        "id": "GM6BqDDcMK4X",
        "colab": {
          "base_uri": "https://localhost:8080/"
        },
        "outputId": "6418376a-2bd9-4cd4-ebee-487b57a69b5d"
      },
      "source": [
        "arr = np.array([[1, 2, 3, 4], [5, 6, 7, 8], [9, 10, 11, 12]])\n",
        "print(arr)\n",
        "np.any((arr>5)&(arr<8))\n",
        "# TODO - определить, имеется ли в массиве хотя бы один элемент, \n",
        "#           отвечающий условию больше пяти и меньше восьми"
      ],
      "execution_count": null,
      "outputs": [
        {
          "output_type": "stream",
          "text": [
            "[[ 1  2  3  4]\n",
            " [ 5  6  7  8]\n",
            " [ 9 10 11 12]]\n"
          ],
          "name": "stdout"
        },
        {
          "output_type": "execute_result",
          "data": {
            "text/plain": [
              "True"
            ]
          },
          "metadata": {
            "tags": []
          },
          "execution_count": 51
        }
      ]
    },
    {
      "cell_type": "markdown",
      "metadata": {
        "id": "zEuM4ZnWHUm5"
      },
      "source": [
        "# Больше индексации"
      ]
    },
    {
      "cell_type": "markdown",
      "metadata": {
        "id": "F62Ol7oXHWlu"
      },
      "source": [
        "Помимо индексации с помощью диапазонов и списков индексов numpy поддерживает индексацию с помощью булевых массивов."
      ]
    },
    {
      "cell_type": "code",
      "metadata": {
        "id": "Vpt6OK_RHfyG"
      },
      "source": [
        "arr = np.array([[1, 2, 3, 4], [5, 6, 7, 8], [9, 10, 11, 12]])"
      ],
      "execution_count": null,
      "outputs": []
    },
    {
      "cell_type": "code",
      "metadata": {
        "id": "G0YBhqI3MpUr",
        "colab": {
          "base_uri": "https://localhost:8080/"
        },
        "outputId": "f978dc1b-e282-4607-953a-1bfd2b047b1c"
      },
      "source": [
        "# Получим маску и воспользуемся ею для индексации\n",
        "mask = arr > 6\n",
        "print(mask)\n",
        "print(arr[mask])"
      ],
      "execution_count": null,
      "outputs": [
        {
          "output_type": "stream",
          "text": [
            "[[False False False False]\n",
            " [False False  True  True]\n",
            " [ True  True  True  True]]\n",
            "[ 7  8  9 10 11 12]\n"
          ],
          "name": "stdout"
        }
      ]
    },
    {
      "cell_type": "markdown",
      "metadata": {
        "id": "hyCi34eKM33_"
      },
      "source": [
        "Обратите внимание, такая индексация по всему массиву приводит к созданию 1D массива из-за того, что элементы имеют неравномерное расположение, так что они представляются в выпрямленном виде (flattened).\n",
        "\n",
        "> Выпрямленное представление - приведение массива любой размерности к 1D представлению. Для этого есть метод `ndarray.flatten()`. Происходит это путем разворачивания массива в одномерный, проходом по индексам, начиная с последней размерности: в 2D случае мы берем элемент 1-го рядя, 1-й колонки, затем 1-го ряда, 2-й колонки, как закончим со всем рядом, то переходим на следующий и снова по колонкам. Для 3D массивов - сначала полностью разворачивается глубина, затем колонки, затем ряды."
      ]
    },
    {
      "cell_type": "code",
      "metadata": {
        "id": "RLbUE76_PgBu",
        "colab": {
          "base_uri": "https://localhost:8080/"
        },
        "outputId": "03a8c285-3f73-40b7-9f34-d940188b2eab"
      },
      "source": [
        "arr = np.array([[1, 2, 3, 4], [5, 6, 7, 8]])\n",
        "print(arr)\n",
        "print(arr.flatten())"
      ],
      "execution_count": null,
      "outputs": [
        {
          "output_type": "stream",
          "text": [
            "[[1 2 3 4]\n",
            " [5 6 7 8]]\n",
            "[1 2 3 4 5 6 7 8]\n"
          ],
          "name": "stdout"
        }
      ]
    },
    {
      "cell_type": "markdown",
      "metadata": {
        "id": "X-08XaFSzGo4"
      },
      "source": [
        "# Операции с массивами"
      ]
    },
    {
      "cell_type": "markdown",
      "metadata": {
        "id": "5CRyuSOlQoQe"
      },
      "source": [
        "Мало смысла в создании массивов без возможности сделать с ними что-либо. "
      ]
    },
    {
      "cell_type": "code",
      "metadata": {
        "id": "D4koFxcK1PyA"
      },
      "source": [
        "x = np.array([[1,2],[3,4]], dtype=np.float64)\n",
        "y = np.array([[5,6],[7,8]], dtype=np.float64)"
      ],
      "execution_count": null,
      "outputs": []
    },
    {
      "cell_type": "code",
      "metadata": {
        "id": "q2TffF7Q2jCt",
        "colab": {
          "base_uri": "https://localhost:8080/"
        },
        "outputId": "0edc53eb-cbe3-45e6-c5e6-17f3b295a38c"
      },
      "source": [
        "# Сложение\n",
        "print(x + y)\n",
        "print(np.add(x, y))"
      ],
      "execution_count": null,
      "outputs": [
        {
          "output_type": "stream",
          "text": [
            "[[ 6.  8.]\n",
            " [10. 12.]]\n",
            "[[ 6.  8.]\n",
            " [10. 12.]]\n"
          ],
          "name": "stdout"
        }
      ]
    },
    {
      "cell_type": "code",
      "metadata": {
        "id": "SBVvWTwx2uEz",
        "colab": {
          "base_uri": "https://localhost:8080/"
        },
        "outputId": "ee678f18-f080-4f8a-91aa-aaf2774ae80f"
      },
      "source": [
        "# Вычитание\n",
        "print(x - y)\n",
        "print(np.subtract(x, y))"
      ],
      "execution_count": null,
      "outputs": [
        {
          "output_type": "stream",
          "text": [
            "[[-4. -4.]\n",
            " [-4. -4.]]\n",
            "[[-4. -4.]\n",
            " [-4. -4.]]\n"
          ],
          "name": "stdout"
        }
      ]
    },
    {
      "cell_type": "code",
      "metadata": {
        "id": "aOAqrdb33IRV",
        "colab": {
          "base_uri": "https://localhost:8080/"
        },
        "outputId": "a34ae613-bd67-40b4-87d7-fb58183f64cf"
      },
      "source": [
        "# Поэлементное умножение\n",
        "print(x * y)\n",
        "print(np.multiply(x, y))"
      ],
      "execution_count": null,
      "outputs": [
        {
          "output_type": "stream",
          "text": [
            "[[ 5. 12.]\n",
            " [21. 32.]]\n",
            "[[ 5. 12.]\n",
            " [21. 32.]]\n"
          ],
          "name": "stdout"
        }
      ]
    },
    {
      "cell_type": "code",
      "metadata": {
        "id": "fTbMbYoo3MlX",
        "colab": {
          "base_uri": "https://localhost:8080/"
        },
        "outputId": "f5038b92-c55a-45ea-e919-eb4d2cc9e7c6"
      },
      "source": [
        "# Поэлементное деление\n",
        "print(x / y)\n",
        "print(np.divide(x, y))"
      ],
      "execution_count": null,
      "outputs": [
        {
          "output_type": "stream",
          "text": [
            "[[0.2        0.33333333]\n",
            " [0.42857143 0.5       ]]\n",
            "[[0.2        0.33333333]\n",
            " [0.42857143 0.5       ]]\n"
          ],
          "name": "stdout"
        }
      ]
    },
    {
      "cell_type": "code",
      "metadata": {
        "id": "Ke48RJZz3QFN",
        "colab": {
          "base_uri": "https://localhost:8080/"
        },
        "outputId": "569fbfab-8279-4bd1-cb1b-9a6a89ae881d"
      },
      "source": [
        "# Вычисление корня каждого элемента\n",
        "print(np.sqrt(x))"
      ],
      "execution_count": null,
      "outputs": [
        {
          "output_type": "stream",
          "text": [
            "[[1.         1.41421356]\n",
            " [1.73205081 2.        ]]\n"
          ],
          "name": "stdout"
        }
      ]
    },
    {
      "cell_type": "markdown",
      "metadata": {
        "id": "xk83DBbX4GTX"
      },
      "source": [
        "Отлично, мы рассмотрели основные операции над массивами. Операции поэлементные, результаты такие же по размеру, как и операнды. Помимо рассмотренных существуют и множество других, например, экспонента, логарифм и т.д.\n",
        "\n",
        "Помимо поэлементных операций, которые не составляют сложностей в представлении, существует операция матричного умножения. В данном случае мы имеем варианты перемножения матриц, векторов и скаляров."
      ]
    },
    {
      "cell_type": "code",
      "metadata": {
        "id": "XTQGfz575qFK",
        "colab": {
          "base_uri": "https://localhost:8080/"
        },
        "outputId": "85cbb0a8-f3ad-4f73-c922-20dd21858608"
      },
      "source": [
        "# Умножение матрицы на скаляр - релизуется как поэлементное перемножение \n",
        "k = 1.5\n",
        "\n",
        "print(k*x)"
      ],
      "execution_count": null,
      "outputs": [
        {
          "output_type": "stream",
          "text": [
            "[[1.5 3. ]\n",
            " [4.5 6. ]]\n"
          ],
          "name": "stdout"
        }
      ]
    },
    {
      "cell_type": "code",
      "metadata": {
        "id": "N5xOhY-e6BtE"
      },
      "source": [
        "v = np.array([1, 2])"
      ],
      "execution_count": null,
      "outputs": []
    },
    {
      "cell_type": "code",
      "metadata": {
        "id": "KyTncnjz6FPm",
        "colab": {
          "base_uri": "https://localhost:8080/"
        },
        "outputId": "909f0082-f761-4c1f-9c4f-fa21922fae80"
      },
      "source": [
        "# Матричное умножение реализуется через оператор @ или функцию np.dot() \n",
        "#   или метод ndarray.dot()\n",
        "# Для умножения матрица-вектор\n",
        "\n",
        "print(x @ v)\n",
        "print(x.dot(v))\n",
        "print(np.dot(x, v))"
      ],
      "execution_count": null,
      "outputs": [
        {
          "output_type": "stream",
          "text": [
            "[ 5. 11.]\n",
            "[ 5. 11.]\n",
            "[ 5. 11.]\n"
          ],
          "name": "stdout"
        }
      ]
    },
    {
      "cell_type": "code",
      "metadata": {
        "id": "08UQZ9Ks63FH",
        "colab": {
          "base_uri": "https://localhost:8080/"
        },
        "outputId": "30b00bd2-1553-4382-aa91-a9c3d3692504"
      },
      "source": [
        "# Двух векторов\n",
        "w = np.array([3, 4])\n",
        "\n",
        "print(w @ v)\n",
        "print(w.dot(v))\n",
        "print(np.dot(w, v))"
      ],
      "execution_count": null,
      "outputs": [
        {
          "output_type": "stream",
          "text": [
            "11\n",
            "11\n",
            "11\n"
          ],
          "name": "stdout"
        }
      ]
    },
    {
      "cell_type": "code",
      "metadata": {
        "id": "Fmd4HaZP6paa",
        "colab": {
          "base_uri": "https://localhost:8080/"
        },
        "outputId": "d7ca3f89-9a66-45b5-fa81-d8c4fbd07e73"
      },
      "source": [
        "# Так и для перемножения матриц\n",
        "print(x @ y)\n",
        "print(x.dot(y))\n",
        "print(np.dot(x, y))"
      ],
      "execution_count": null,
      "outputs": [
        {
          "output_type": "stream",
          "text": [
            "[[19. 22.]\n",
            " [43. 50.]]\n",
            "[[19. 22.]\n",
            " [43. 50.]]\n",
            "[[19. 22.]\n",
            " [43. 50.]]\n"
          ],
          "name": "stdout"
        }
      ]
    },
    {
      "cell_type": "markdown",
      "metadata": {
        "id": "BXjO0pdq7EVL"
      },
      "source": [
        "Правила умножения матриц и векторов здесь идентичны математическим, то есть соседние размерности должны соотноситься: $(m, n)*(n, k)=(m, k)$.\n",
        "\n",
        "Прекрасно! Раз мы разобрались с тем, как делать базовые операции, то осталось лишь последняя базовая операция - транспонирование."
      ]
    },
    {
      "cell_type": "code",
      "metadata": {
        "id": "wtkDK4UU76Pp",
        "colab": {
          "base_uri": "https://localhost:8080/"
        },
        "outputId": "37a187e7-29ac-4697-eb9b-6d83dd2ce549"
      },
      "source": [
        "# Для транспонирования можно воспользоваться атрибутом ndarray.T\n",
        "#   или функцией np.transpose()\n",
        "x = np.array([[1, 2, 3], [4, 5, 6]])\n",
        "print(x)\n",
        "print(x.shape)\n",
        "\n",
        "print(np.transpose(x))\n",
        "print(x.T)\n",
        "print(x.T.shape)"
      ],
      "execution_count": null,
      "outputs": [
        {
          "output_type": "stream",
          "text": [
            "[[1 2 3]\n",
            " [4 5 6]]\n",
            "(2, 3)\n",
            "[[1 4]\n",
            " [2 5]\n",
            " [3 6]]\n",
            "[[1 4]\n",
            " [2 5]\n",
            " [3 6]]\n",
            "(3, 2)\n"
          ],
          "name": "stdout"
        }
      ]
    },
    {
      "cell_type": "markdown",
      "metadata": {
        "id": "foJSgM3-9Ktj"
      },
      "source": [
        "# Операции по осям"
      ]
    },
    {
      "cell_type": "markdown",
      "metadata": {
        "id": "Zu26o_Jq8ko-"
      },
      "source": [
        "Если ранее операции позволяли модифицировать массив и получать новые массивы с помощью базовых операций, то сейчас мы рассмотрим более \"аггрегуирующие\" операции, например, получение среднего значения, суммы и т.д.\n",
        "\n",
        "При разборе обратим внимание на один важный аргумент в операциях `axis`."
      ]
    },
    {
      "cell_type": "code",
      "metadata": {
        "id": "CNvo0bMH8Hw4",
        "colab": {
          "base_uri": "https://localhost:8080/"
        },
        "outputId": "070947d6-c56f-4689-e5c8-a75b69e84dbe"
      },
      "source": [
        "x = np.array([[1, 2, 3], [5, 4, 3]])\n",
        "print(x)"
      ],
      "execution_count": null,
      "outputs": [
        {
          "output_type": "stream",
          "text": [
            "[[1 2 3]\n",
            " [5 4 3]]\n"
          ],
          "name": "stdout"
        }
      ]
    },
    {
      "cell_type": "code",
      "metadata": {
        "id": "VmORpW679pGA",
        "colab": {
          "base_uri": "https://localhost:8080/"
        },
        "outputId": "afced699-2507-4d04-edd4-2e96e99704f2"
      },
      "source": [
        "# Возьмем среднее значение всего массива\n",
        "print(np.mean(x))\n",
        "print(np.mean(x, axis=None))"
      ],
      "execution_count": null,
      "outputs": [
        {
          "output_type": "stream",
          "text": [
            "3.0\n",
            "3.0\n"
          ],
          "name": "stdout"
        }
      ]
    },
    {
      "cell_type": "code",
      "metadata": {
        "id": "AAbohlvH94YY",
        "colab": {
          "base_uri": "https://localhost:8080/"
        },
        "outputId": "56f17c3f-8a44-4249-95ab-8d18a42a7017"
      },
      "source": [
        "# Получим сумму значений всего массива\n",
        "print(np.sum(x))\n",
        "print(np.sum(x, axis=None))"
      ],
      "execution_count": null,
      "outputs": [
        {
          "output_type": "stream",
          "text": [
            "18\n",
            "18\n"
          ],
          "name": "stdout"
        }
      ]
    },
    {
      "cell_type": "markdown",
      "metadata": {
        "id": "3SD2e0--9_sl"
      },
      "source": [
        "Отлично, работает как надо, но зачем этот аргумент `axis`? Все очень просто, он управляет тем, по какой оси (размерности) делается операция. Нужно это, чтобы получить, например, среднее по каждому столбцу или строке."
      ]
    },
    {
      "cell_type": "code",
      "metadata": {
        "id": "TwyP8qED-ROD",
        "colab": {
          "base_uri": "https://localhost:8080/"
        },
        "outputId": "99b82a95-2346-446c-c321-09ab4b3bb9df"
      },
      "source": [
        "# Получим среднее по каждому столбцу\n",
        "print(np.mean(x, axis=0))\n",
        "\n",
        "# Получим среднее по каждой строке\n",
        "print(np.mean(x, axis=1))"
      ],
      "execution_count": null,
      "outputs": [
        {
          "output_type": "stream",
          "text": [
            "[3. 3. 3.]\n",
            "[2. 4.]\n"
          ],
          "name": "stdout"
        }
      ]
    },
    {
      "cell_type": "markdown",
      "metadata": {
        "id": "Cvne71NE_RJB"
      },
      "source": [
        "Так как же это воспринимать? Помните индексацию слайсами (диапазонами)? Чтобы получить весь второй столбец, мы пишем $[:, 2]$, что означает \"все строки стобца под индексом 2\". Так и тут, если мы хотим, чтобы операция выполнилась по всем строкам (например для результата по столбцам), то пишем `axis=0`. Если хотим, чтобы операция проходила по колонкам (для каждой строки), то пишем `axis=1`. То есть, в `axis` задается тот индекс, вдоль которого выполняется операция.\n",
        "\n",
        "Можно подходить к вопросу более формально. Например, мы имеем матрицу размера $(10, 13)$. При указании `axis=0` мы получим результат вычисления операции по каждому столбцу или массив размером $(13, )$. Через аргумент `axis` мы указываем размерность, которую схлопнем до единицы. Для случая многомерных массивов, например с размером $(8, 3, 40, 20)$, указывая `axis=1`, мы получаем результат с размером $(8, 40, 20)$.\n",
        "\n",
        "> Такие возможности задания осей хороши тем, что не нужно писать циклы прохода по всем строкам, чтобы получить результат - это делает код более читаемым и производительным."
      ]
    },
    {
      "cell_type": "markdown",
      "metadata": {
        "id": "pzurzVvuBCgi"
      },
      "source": [
        "## Задание\n",
        "\n",
        "Напишите операцию получения суммы элементов по всем стобцам:"
      ]
    },
    {
      "cell_type": "code",
      "metadata": {
        "id": "ut4bOSdcBP0v",
        "colab": {
          "base_uri": "https://localhost:8080/"
        },
        "outputId": "936a91f7-3d95-41ee-dc6b-80ffcc5dc0c7"
      },
      "source": [
        "data = np.random.randint(low=0, high=5, size=(3, 6))\n",
        "print(data)\n",
        "data1 = np.sum(data,axis=0)\n",
        "print(data1)\n",
        "# TODO - вектор сумм элементов по каждому столбцу"
      ],
      "execution_count": null,
      "outputs": [
        {
          "output_type": "stream",
          "text": [
            "[[2 2 3 3 0 2]\n",
            " [3 1 1 3 1 2]\n",
            " [0 0 0 1 4 2]]\n",
            "[5 3 4 7 5 6]\n"
          ],
          "name": "stdout"
        }
      ]
    },
    {
      "cell_type": "markdown",
      "metadata": {
        "id": "bcgRRkseBqzq"
      },
      "source": [
        "# Broadcasting (трансляция)"
      ]
    },
    {
      "cell_type": "markdown",
      "metadata": {
        "id": "fgwB6980BuZ0"
      },
      "source": [
        "Тема достаточно \"широкая\" =)\n",
        "На деле механизм броадкастинга очень полезен и его понимание является одним из мощных инструментов библиотеки numpy.\n",
        "\n",
        "Зачем он нужен? Допустим, мы имеет вектор $(4,)$, матрицу $(3, 4)$ и хотим умножить этот вектор на каждую строку матрицы. Самый простой способ - пройти в цикле по строкам:"
      ]
    },
    {
      "cell_type": "code",
      "metadata": {
        "id": "PXEeaAmqHqp8",
        "colab": {
          "base_uri": "https://localhost:8080/"
        },
        "outputId": "4affdeb3-79f0-4326-f6f1-bcb4a5ddee03"
      },
      "source": [
        "vec = np.arange(4)\n",
        "mtrx = np.ones((3, 4))\n",
        "print(vec)\n",
        "print(mtrx)"
      ],
      "execution_count": null,
      "outputs": [
        {
          "output_type": "stream",
          "text": [
            "[0 1 2 3]\n",
            "[[1. 1. 1. 1.]\n",
            " [1. 1. 1. 1.]\n",
            " [1. 1. 1. 1.]]\n"
          ],
          "name": "stdout"
        }
      ]
    },
    {
      "cell_type": "code",
      "metadata": {
        "id": "8xH_CXJoHrkr",
        "colab": {
          "base_uri": "https://localhost:8080/"
        },
        "outputId": "2a7e4ae8-3908-43d7-85c6-60fd01677834"
      },
      "source": [
        "result = np.empty_like(mtrx)\n",
        "\n",
        "for i_row in range(mtrx.shape[0]):\n",
        "    result[i_row,:] = mtrx[i_row,:] * vec\n",
        "\n",
        "print(result)"
      ],
      "execution_count": null,
      "outputs": [
        {
          "output_type": "stream",
          "text": [
            "[[0. 1. 2. 3.]\n",
            " [0. 1. 2. 3.]\n",
            " [0. 1. 2. 3.]]\n"
          ],
          "name": "stdout"
        }
      ]
    },
    {
      "cell_type": "markdown",
      "metadata": {
        "id": "UVbNFmqkIHL_"
      },
      "source": [
        "С другой стороны, можно склонировать вектор по размеру матрицы, чтобы затем просто перемножить поэлементно две матрицы."
      ]
    },
    {
      "cell_type": "code",
      "metadata": {
        "id": "P2aJ71qMIJIN",
        "colab": {
          "base_uri": "https://localhost:8080/"
        },
        "outputId": "308a7412-8ccd-4d1a-a90d-3d52fd4dc435"
      },
      "source": [
        "# Функция np.tile() повторяет массив то количество раз и по тем осям,\n",
        "#   которые заданы в аргументе reps\n",
        "vec_m = np.tile(vec, reps=(3, 1))\n",
        "print(vec_m)\n",
        "print(vec_m * mtrx)"
      ],
      "execution_count": null,
      "outputs": [
        {
          "output_type": "stream",
          "text": [
            "[[0 1 2 3]\n",
            " [0 1 2 3]\n",
            " [0 1 2 3]]\n",
            "[[0. 1. 2. 3.]\n",
            " [0. 1. 2. 3.]\n",
            " [0. 1. 2. 3.]]\n"
          ],
          "name": "stdout"
        }
      ]
    },
    {
      "cell_type": "markdown",
      "metadata": {
        "id": "YIAATyxQHp6y"
      },
      "source": [
        "А можно вспомнить про броадкастинг и просто умножить вектор на матрицу:"
      ]
    },
    {
      "cell_type": "code",
      "metadata": {
        "id": "cvhGzlKyGPkk",
        "colab": {
          "base_uri": "https://localhost:8080/"
        },
        "outputId": "31d7396d-8b3f-4959-d31a-159562fca967"
      },
      "source": [
        "# Умножение, используя броадкастинг\n",
        "print(vec * mtrx)"
      ],
      "execution_count": null,
      "outputs": [
        {
          "output_type": "stream",
          "text": [
            "[[0. 1. 2. 3.]\n",
            " [0. 1. 2. 3.]\n",
            " [0. 1. 2. 3.]]\n"
          ],
          "name": "stdout"
        }
      ]
    },
    {
      "cell_type": "markdown",
      "metadata": {
        "id": "m45myVWXInxI"
      },
      "source": [
        "Таким образом, броадкастинг - это механизм распространения элементов операций по разметностям, по которым количество элементов не соотносится с другим операндом. В последней ячейке вектор был продублирован на каждую строку так, что размерности соотносятся.\n",
        "\n",
        "> Обязательно прочитайте примеры броадкастинга в [статье](https://numpy.org/doc/stable/user/basics.broadcasting.html).\n",
        "\n",
        "Броадкастинг также работает и при умножении скаляра на массив:"
      ]
    },
    {
      "cell_type": "code",
      "metadata": {
        "id": "vyolr9OlHRx0",
        "colab": {
          "base_uri": "https://localhost:8080/"
        },
        "outputId": "30495fe6-f0a8-4327-e18a-e71183a98e2f"
      },
      "source": [
        "print(2 * mtrx)"
      ],
      "execution_count": null,
      "outputs": [
        {
          "output_type": "stream",
          "text": [
            "[[2. 2. 2. 2.]\n",
            " [2. 2. 2. 2.]\n",
            " [2. 2. 2. 2.]]\n"
          ],
          "name": "stdout"
        }
      ]
    },
    {
      "cell_type": "markdown",
      "metadata": {
        "id": "b5C9CLXvLy_X"
      },
      "source": [
        "Чтобы больше понять правила броадкастинга, посмотрим на результаты операций 3D матриц:"
      ]
    },
    {
      "cell_type": "code",
      "metadata": {
        "id": "p5gNIS1QLmTq",
        "colab": {
          "base_uri": "https://localhost:8080/"
        },
        "outputId": "41fde572-fde7-4479-ebee-94772bb6799f"
      },
      "source": [
        "x = np.ones((4, 1, 1))\n",
        "y = np.random.randint(0, 5, size=(4, 3, 2))\n",
        "\n",
        "print((x*y).shape)"
      ],
      "execution_count": null,
      "outputs": [
        {
          "output_type": "stream",
          "text": [
            "(4, 3, 2)\n"
          ],
          "name": "stdout"
        }
      ]
    },
    {
      "cell_type": "code",
      "metadata": {
        "id": "sXzWWxHnMS8E",
        "colab": {
          "base_uri": "https://localhost:8080/"
        },
        "outputId": "9c76f5a4-e7e1-4c29-b777-7e64aac7422f"
      },
      "source": [
        "x = np.ones((3, 1))\n",
        "y = np.random.randint(0, 5, size=(4, 3, 2))\n",
        "\n",
        "print((x*y).shape)"
      ],
      "execution_count": null,
      "outputs": [
        {
          "output_type": "stream",
          "text": [
            "(4, 3, 2)\n"
          ],
          "name": "stdout"
        }
      ]
    },
    {
      "cell_type": "code",
      "metadata": {
        "id": "gCclW4LGMYUA",
        "colab": {
          "base_uri": "https://localhost:8080/"
        },
        "outputId": "1ddc444b-7bce-4e4a-d0a6-ab7cdf2dbfa0"
      },
      "source": [
        "x = np.ones((1, 3, 2))\n",
        "y = np.random.randint(0, 5, size=(5, 1, 2))\n",
        "\n",
        "print((x*y).shape)"
      ],
      "execution_count": null,
      "outputs": [
        {
          "output_type": "stream",
          "text": [
            "(5, 3, 2)\n"
          ],
          "name": "stdout"
        }
      ]
    },
    {
      "cell_type": "markdown",
      "metadata": {
        "id": "V5BvOyFOMdyr"
      },
      "source": [
        "В последних примерах можно увидеть, что размерности должны быть соотносимы (количества размерностей равны). В случае неравенства количества размерностей новые размерности со значением 1 добавляются слева ($(3, 1) \\rightarrow (1, 3, 1)$ в одном из примеров).\n",
        "\n",
        "> Добавление размерности было и в случае умножения вектора на матрицу: $(4,)*(3, 4) \\rightarrow (1, 4)*(3, 4)$\n",
        "\n",
        "Броадкастинг делается по тем осям, которые у одного операнда имеют размерность 1 путем копирования.\n",
        "\n",
        "> В нашем случае $(1, 4)*(3, 4) \\rightarrow (3, 4)*(3, 4)$"
      ]
    },
    {
      "cell_type": "markdown",
      "metadata": {
        "id": "7TwQwQt6OEA_"
      },
      "source": [
        "Осознать броадкастинг сразу не совсем просто, но главное не забывать, что такой инструмент есть и им нужно пользоваться во избежание лишнего кода."
      ]
    },
    {
      "cell_type": "markdown",
      "metadata": {
        "id": "6Aece1s4OM7y"
      },
      "source": [
        "# Изменение размеров массива (Reshape)"
      ]
    },
    {
      "cell_type": "markdown",
      "metadata": {
        "id": "AjcQO4NSOQtv"
      },
      "source": [
        "Еще одна интересная тема, которую стоит рассмотреть. Мы уже касались вопроса приведения массива к выпрямленному виду - это один из видов изменения размерности массива.\n",
        "\n",
        "По сути, размерность массива - это то, как выстроены элементы в нем. Изменение размерности - это изменение структуры **без изменения элементов или порядка**.\n",
        "\n",
        "Рассмотрим на примере:"
      ]
    },
    {
      "cell_type": "code",
      "metadata": {
        "id": "QaEqZf_aPoSp",
        "colab": {
          "base_uri": "https://localhost:8080/"
        },
        "outputId": "f12a86fa-60f3-4532-f459-e5c6e39b2062"
      },
      "source": [
        "arr = np.arange(20)\n",
        "print(arr)"
      ],
      "execution_count": null,
      "outputs": [
        {
          "output_type": "stream",
          "text": [
            "[ 0  1  2  3  4  5  6  7  8  9 10 11 12 13 14 15 16 17 18 19]\n"
          ],
          "name": "stdout"
        }
      ]
    },
    {
      "cell_type": "markdown",
      "metadata": {
        "id": "y6rx0qLXPtKD"
      },
      "source": [
        "Вот мы имеем вектор из 20 элементов в порядке возрастания. Теперь, допустим, нам нужно сделать массив размером $(4, 5)$, в котором каждый ряд - это продолжение предыдущего по возрастанию чисел. Для начала сделаем руками: "
      ]
    },
    {
      "cell_type": "code",
      "metadata": {
        "id": "Kx9kBRe2QBR-",
        "colab": {
          "base_uri": "https://localhost:8080/"
        },
        "outputId": "7729f62a-785d-4af7-af0e-e55906b9c7ee"
      },
      "source": [
        "mtrx = np.ndarray((4, 5), dtype=np.int32)\n",
        "mtrx[0, :] = arr[:5]\n",
        "mtrx[1, :] = arr[5:10]\n",
        "mtrx[2, :] = arr[10:15]\n",
        "mtrx[3, :] = arr[15:]\n",
        "\n",
        "print(mtrx)"
      ],
      "execution_count": null,
      "outputs": [
        {
          "output_type": "stream",
          "text": [
            "[[ 0  1  2  3  4]\n",
            " [ 5  6  7  8  9]\n",
            " [10 11 12 13 14]\n",
            " [15 16 17 18 19]]\n"
          ],
          "name": "stdout"
        }
      ]
    },
    {
      "cell_type": "markdown",
      "metadata": {
        "id": "UPyGvrtWdPm-"
      },
      "source": [
        "Получилось как надо, но есть два недостатка:\n",
        "- Если элементов будет больше и нужен будет другой размер - код не универсален;\n",
        "- Приходится расставлять данные вручную.\n",
        "\n",
        "Теперь взглянем, как работает метод `ndarray.reshape()`:"
      ]
    },
    {
      "cell_type": "code",
      "metadata": {
        "id": "AFpqjOXAdOqD",
        "colab": {
          "base_uri": "https://localhost:8080/"
        },
        "outputId": "f7cefef1-eea1-45de-cf92-e4484003c3e3"
      },
      "source": [
        "print(arr.reshape((4, 5)))"
      ],
      "execution_count": null,
      "outputs": [
        {
          "output_type": "stream",
          "text": [
            "[[ 0  1  2  3  4]\n",
            " [ 5  6  7  8  9]\n",
            " [10 11 12 13 14]\n",
            " [15 16 17 18 19]]\n"
          ],
          "name": "stdout"
        }
      ]
    },
    {
      "cell_type": "markdown",
      "metadata": {
        "id": "rVRLk09SdrtT"
      },
      "source": [
        "В результате происходит тоже самое. То есть, элементы расположились в порядке размещения по размерностям: начиная с первой строки (нулевая размерность) заполняется по колонкам (первая размерность), а как только заполнение по колонкам закончено - переходим на следующий ряд.\n",
        "\n",
        "Таким образом, в какую бы размерность не происходило изменение размера - расположение будет придерживаться этого правила.\n",
        "\n",
        "Для лучшего понимания посмотрим на другие представления:"
      ]
    },
    {
      "cell_type": "code",
      "metadata": {
        "id": "ecjFNZPPebov",
        "colab": {
          "base_uri": "https://localhost:8080/"
        },
        "outputId": "6ca39bab-d342-417d-9809-07cab04a8ad2"
      },
      "source": [
        "print(arr.reshape((2, 10)))\n",
        "print(arr.reshape((5, 4)))\n",
        "print(arr.reshape((20, 1)))"
      ],
      "execution_count": null,
      "outputs": [
        {
          "output_type": "stream",
          "text": [
            "[[ 0  1  2  3  4  5  6  7  8  9]\n",
            " [10 11 12 13 14 15 16 17 18 19]]\n",
            "[[ 0  1  2  3]\n",
            " [ 4  5  6  7]\n",
            " [ 8  9 10 11]\n",
            " [12 13 14 15]\n",
            " [16 17 18 19]]\n",
            "[[ 0]\n",
            " [ 1]\n",
            " [ 2]\n",
            " [ 3]\n",
            " [ 4]\n",
            " [ 5]\n",
            " [ 6]\n",
            " [ 7]\n",
            " [ 8]\n",
            " [ 9]\n",
            " [10]\n",
            " [11]\n",
            " [12]\n",
            " [13]\n",
            " [14]\n",
            " [15]\n",
            " [16]\n",
            " [17]\n",
            " [18]\n",
            " [19]]\n"
          ],
          "name": "stdout"
        }
      ]
    },
    {
      "cell_type": "markdown",
      "metadata": {
        "id": "VFh8-iyHeh6d"
      },
      "source": [
        "Таким образом, можно приводить к любой размерности с учетом правила:\n",
        "> Количество элементов должно сохраняться\n",
        "\n",
        "Но бывают ситуации, когда мы точно не знаем количество элементов, но нам нужно точно создать, например, 4 строки в матрице. В этом поможет неопределенная размерность, которая задается числом -1:"
      ]
    },
    {
      "cell_type": "code",
      "metadata": {
        "id": "-rioXaAse-Da",
        "colab": {
          "base_uri": "https://localhost:8080/"
        },
        "outputId": "313d1304-2075-4faa-fa07-102488510e5d"
      },
      "source": [
        "print(arr.reshape((4, -1)))"
      ],
      "execution_count": null,
      "outputs": [
        {
          "output_type": "stream",
          "text": [
            "[[ 0  1  2  3  4]\n",
            " [ 5  6  7  8  9]\n",
            " [10 11 12 13 14]\n",
            " [15 16 17 18 19]]\n"
          ],
          "name": "stdout"
        }
      ]
    },
    {
      "cell_type": "markdown",
      "metadata": {
        "id": "m4DEV-Q0Pngj"
      },
      "source": [
        "Таким образом можно задать, что матрица должна быть 2D с фиксированным количеством строк, но без фиксации на количество столбцов. Конечно же, если в исходном будет 21 элемент, то такой трюк не сработает, потому что 21 не делится на 4 без остатка."
      ]
    },
    {
      "cell_type": "markdown",
      "metadata": {
        "id": "53NWq6i_fe2W"
      },
      "source": [
        "# Объединение массивов"
      ]
    },
    {
      "cell_type": "markdown",
      "metadata": {
        "id": "EDCNSihEfiVA"
      },
      "source": [
        "При работе с массивами бывают случаи, когда несколько массивов необходимо объединить в один. Для этого поможет функция `np.concatenate()` и понимание ее основных правил."
      ]
    },
    {
      "cell_type": "code",
      "metadata": {
        "id": "iiVzWooVfw-w",
        "colab": {
          "base_uri": "https://localhost:8080/"
        },
        "outputId": "e2925dd8-7947-46af-a354-9d84921666d1"
      },
      "source": [
        "x = np.arange(10).reshape((2, 5))\n",
        "y = np.arange(15).reshape((3, 5))\n",
        "\n",
        "print(x)\n",
        "print(y)"
      ],
      "execution_count": null,
      "outputs": [
        {
          "output_type": "stream",
          "text": [
            "[[0 1 2 3 4]\n",
            " [5 6 7 8 9]]\n",
            "[[ 0  1  2  3  4]\n",
            " [ 5  6  7  8  9]\n",
            " [10 11 12 13 14]]\n"
          ],
          "name": "stdout"
        }
      ]
    },
    {
      "cell_type": "markdown",
      "metadata": {
        "id": "dpXU_P7TguD_"
      },
      "source": [
        "Для объединения массивов необходимо, чтобы одна из размерностей имела одинаковое количество элементов. Это достаточно логичное требование задается аргументом `axis` в функции:"
      ]
    },
    {
      "cell_type": "code",
      "metadata": {
        "id": "rX9FSi5Hg62I",
        "colab": {
          "base_uri": "https://localhost:8080/"
        },
        "outputId": "dcea65c4-de8d-43eb-e5f7-b881fee079a5"
      },
      "source": [
        "print(np.concatenate((x, y), axis=0))"
      ],
      "execution_count": null,
      "outputs": [
        {
          "output_type": "stream",
          "text": [
            "[[ 0  1  2  3  4]\n",
            " [ 5  6  7  8  9]\n",
            " [ 0  1  2  3  4]\n",
            " [ 5  6  7  8  9]\n",
            " [10 11 12 13 14]]\n"
          ],
          "name": "stdout"
        }
      ]
    },
    {
      "cell_type": "markdown",
      "metadata": {
        "id": "In1g-miAg_vz"
      },
      "source": [
        "Обратите внимание, что массивы передаются в виде кортежа, что позволяет объединять два и более массивов."
      ]
    },
    {
      "cell_type": "markdown",
      "metadata": {
        "id": "9zi8VK2HhHnw"
      },
      "source": [
        "## Задание\n",
        "\n",
        "Объедините три массива вдоль колонок:"
      ]
    },
    {
      "cell_type": "code",
      "metadata": {
        "id": "WroGVeHYhXYU",
        "colab": {
          "base_uri": "https://localhost:8080/"
        },
        "outputId": "aa990128-f467-438f-8d49-a37bbc0eee3e"
      },
      "source": [
        "x = np.arange(9).reshape((3, 3))\n",
        "y = np.arange(12).reshape((3, 4))\n",
        "z = np.arange(15).reshape((3, 5))\n",
        "\n",
        "print(x)\n",
        "print(y)\n",
        "print(z)\n",
        "\n",
        "# TODO - получите объединенный массив:\n",
        "# [[ 0  1  2  0  1  2  3  0  1  2  3  4]\n",
        "#  [ 3  4  5  4  5  6  7  5  6  7  8  9]\n",
        "#  [ 6  7  8  8  9 10 11 10 11 12 13 14]]"
      ],
      "execution_count": null,
      "outputs": [
        {
          "output_type": "stream",
          "text": [
            "[[0 1 2]\n",
            " [3 4 5]\n",
            " [6 7 8]]\n",
            "[[ 0  1  2  3]\n",
            " [ 4  5  6  7]\n",
            " [ 8  9 10 11]]\n",
            "[[ 0  1  2  3  4]\n",
            " [ 5  6  7  8  9]\n",
            " [10 11 12 13 14]]\n"
          ],
          "name": "stdout"
        }
      ]
    },
    {
      "cell_type": "code",
      "metadata": {
        "id": "07C8Fk1wdnUg",
        "colab": {
          "base_uri": "https://localhost:8080/"
        },
        "outputId": "d195fda5-9724-421b-8122-400e2ddd7fb1"
      },
      "source": [
        "print(np.concatenate((x, y, z), axis=1))"
      ],
      "execution_count": null,
      "outputs": [
        {
          "output_type": "stream",
          "text": [
            "[[ 0  1  2  0  1  2  3  0  1  2  3  4]\n",
            " [ 3  4  5  4  5  6  7  5  6  7  8  9]\n",
            " [ 6  7  8  8  9 10 11 10 11 12 13 14]]\n"
          ],
          "name": "stdout"
        }
      ]
    },
    {
      "cell_type": "markdown",
      "metadata": {
        "id": "g1vMT1PZSpSs"
      },
      "source": [
        "## Задание\n",
        "\n",
        "Напишите реализацию добавления стобца единиц к матрице слева:"
      ]
    },
    {
      "cell_type": "code",
      "metadata": {
        "id": "uKMSNM0ySyQ2",
        "colab": {
          "base_uri": "https://localhost:8080/"
        },
        "outputId": "4e162a0e-b1b2-4e43-9405-1a04f164884e"
      },
      "source": [
        "x = np.arange(1, 10).reshape((3, 3))\n",
        "print(x)\n",
        "y = np.ones([3,1],dtype = int)\n",
        "print(y)\n",
        "print(np.concatenate((y,x),axis=1))\n",
        "# TODO - получить матрицу со столбцом единиц слева\n",
        "# [[1 1 2 3]\n",
        "#  [1 4 5 6]\n",
        "#  [1 7 8 9]]"
      ],
      "execution_count": null,
      "outputs": [
        {
          "output_type": "stream",
          "text": [
            "[[1 2 3]\n",
            " [4 5 6]\n",
            " [7 8 9]]\n",
            "[[1]\n",
            " [1]\n",
            " [1]]\n",
            "[[1 1 2 3]\n",
            " [1 4 5 6]\n",
            " [1 7 8 9]]\n"
          ],
          "name": "stdout"
        }
      ]
    },
    {
      "cell_type": "markdown",
      "metadata": {
        "id": "Ylb4mK18hxpf"
      },
      "source": [
        "# Сортировка массива"
      ]
    },
    {
      "cell_type": "markdown",
      "metadata": {
        "id": "pLIYlEd0h2fp"
      },
      "source": [
        "Numpy как серьезная библиотека работы с массивами имеет также и функционал сортировки. Для этого есть функция `np.sort()`, которая производит сортировку элементов и возвращает отсортированный массив:"
      ]
    },
    {
      "cell_type": "code",
      "metadata": {
        "id": "qeoYgI9Eilc6",
        "colab": {
          "base_uri": "https://localhost:8080/"
        },
        "outputId": "d3d5fe5c-92f4-4655-c16c-afca67496c96"
      },
      "source": [
        "unsorted_arr = np.array([2, 4, 5, 1, 2, 7, 5, 0, -1, 3, 5])\n",
        "sorted_arr = np.sort(unsorted_arr)\n",
        "\n",
        "print(unsorted_arr)\n",
        "print(sorted_arr)"
      ],
      "execution_count": null,
      "outputs": [
        {
          "output_type": "stream",
          "text": [
            "[ 2  4  5  1  2  7  5  0 -1  3  5]\n",
            "[-1  0  1  2  2  3  4  5  5  5  7]\n"
          ],
          "name": "stdout"
        }
      ]
    },
    {
      "cell_type": "markdown",
      "metadata": {
        "id": "Bnck_27Bi0id"
      },
      "source": [
        "Помимо явной сортировки существует также функция `np.argsort()`, которая возвращает не отсортированный массив, а массив индексов исходного массива в порядке, который дает отсортированный исходный. Посмотрим:"
      ]
    },
    {
      "cell_type": "code",
      "metadata": {
        "id": "NPkO5wIkjvoN",
        "colab": {
          "base_uri": "https://localhost:8080/"
        },
        "outputId": "80d45941-14e3-4480-d47f-a43cc343dac5"
      },
      "source": [
        "sorted_indices = np.argsort(unsorted_arr)\n",
        "print(sorted_indices)\n",
        "\n",
        "# А теперь воспользуемся индексами и отобразим исходный массив с индексацией\n",
        "print(unsorted_arr[sorted_indices])"
      ],
      "execution_count": null,
      "outputs": [
        {
          "output_type": "stream",
          "text": [
            "[ 8  7  3  0  4  9  1  2  6 10  5]\n",
            "[-1  0  1  2  2  3  4  5  5  5  7]\n"
          ],
          "name": "stdout"
        }
      ]
    },
    {
      "cell_type": "markdown",
      "metadata": {
        "id": "unm24O5ukBIN"
      },
      "source": [
        "## Задание\n",
        "\n",
        "По такому же принципу именования найдите функцию, которая возвращает индекс максимального/минимального (в завимости от варианта) элемента в массиве.\n",
        "\n",
        "Воспользуйтесь найденной функцией и найдите индексы максимальных элементов в каждом столбце 2D матрицы: "
      ]
    },
    {
      "cell_type": "code",
      "metadata": {
        "id": "V8mS3lbMkzha",
        "colab": {
          "base_uri": "https://localhost:8080/"
        },
        "outputId": "0b966d74-203d-4932-fae5-19078bc53595"
      },
      "source": [
        "arr = np.array([\n",
        "    [11, -1, 1, 3, 5],\n",
        "    [6, 1, 0, -1, 10],\n",
        "    [1, 3, 2, 3, 6],\n",
        "    [5, 2, 7, 8, 9],\n",
        "])\n",
        "\n",
        "print(arr)\n",
        "print(np.argmax(arr,axis = 0))\n",
        "print(np.argmin(arr,axis = 0))\n",
        "# TODO - напишите код поиска индексов максимальных/минимальных \n",
        "#           элементов в массиве по столбцам: [0 2 3 3 1]/[2 0 1 1 0]"
      ],
      "execution_count": null,
      "outputs": [
        {
          "output_type": "stream",
          "text": [
            "[[11 -1  1  3  5]\n",
            " [ 6  1  0 -1 10]\n",
            " [ 1  3  2  3  6]\n",
            " [ 5  2  7  8  9]]\n",
            "[0 2 3 3 1]\n",
            "[2 0 1 1 0]\n"
          ],
          "name": "stdout"
        }
      ]
    },
    {
      "cell_type": "markdown",
      "metadata": {
        "id": "B-BhMwTynb1c"
      },
      "source": [
        "## Задание\n",
        "\n",
        "Напишите код сортировки массива по столбцам:"
      ]
    },
    {
      "cell_type": "code",
      "metadata": {
        "id": "XeyGvnv9nha8",
        "colab": {
          "base_uri": "https://localhost:8080/"
        },
        "outputId": "75c96cb5-dd8e-41b4-cd35-872a53d375d4"
      },
      "source": [
        "arr = np.array([\n",
        "    [11, 2, 1, 3, 5],\n",
        "    [6, 2, 0, -1, 10],\n",
        "    [1, 3, 2, 3, 5],\n",
        "    [5, 2, 7, 8, 9],\n",
        "])\n",
        "print(arr)\n",
        "print(arr)\n",
        "print(np.sort(arr,axis = 0))\n",
        "# TODO - напишите код сортировки:\n",
        "# [[ 1  2  0 -1  5]\n",
        "#  [ 5  2  1  3  5]\n",
        "#  [ 6  2  2  3  9]\n",
        "#  [11  3  7  8 10]]"
      ],
      "execution_count": null,
      "outputs": [
        {
          "output_type": "stream",
          "text": [
            "[[11  2  1  3  5]\n",
            " [ 6  2  0 -1 10]\n",
            " [ 1  3  2  3  5]\n",
            " [ 5  2  7  8  9]]\n",
            "[[11  2  1  3  5]\n",
            " [ 6  2  0 -1 10]\n",
            " [ 1  3  2  3  5]\n",
            " [ 5  2  7  8  9]]\n",
            "[[ 1  2  0 -1  5]\n",
            " [ 5  2  1  3  5]\n",
            " [ 6  2  2  3  9]\n",
            " [11  3  7  8 10]]\n"
          ],
          "name": "stdout"
        }
      ]
    },
    {
      "cell_type": "markdown",
      "metadata": {
        "id": "Q7HnQ1sydJy9"
      },
      "source": [
        "# Задачки"
      ]
    },
    {
      "cell_type": "markdown",
      "metadata": {
        "id": "G9GZ6RxEFl4R"
      },
      "source": [
        "Создайте массив, состоящий из случайных элементов в диапазоне $[-10; 20]$ размером $(5, 7)$:"
      ]
    },
    {
      "cell_type": "code",
      "metadata": {
        "id": "nm7ygwgfF-2M",
        "colab": {
          "base_uri": "https://localhost:8080/"
        },
        "outputId": "82303bed-315a-4a12-bc67-1e8b323afaf0"
      },
      "source": [
        "# TODO - создайте массив со случайными целочисленными элементами\n",
        "print(np.random.randint(low = -10, high = 20, size = [5, 7]))"
      ],
      "execution_count": null,
      "outputs": [
        {
          "output_type": "stream",
          "text": [
            "[[ 17  19   6   9 -10  -8  -2]\n",
            " [  6  12  11  -3  -2  18  -5]\n",
            " [  9  11  10  13  -4   5   2]\n",
            " [  8  -2  14   8  14  13   8]\n",
            " [ -7   1  -3  -9  14  -7  -5]]\n"
          ],
          "name": "stdout"
        }
      ]
    },
    {
      "cell_type": "markdown",
      "metadata": {
        "id": "N7RHO3OQmZAv"
      },
      "source": [
        "Добавьте границу в виде нулей со всех сторон 2D массива:"
      ]
    },
    {
      "cell_type": "code",
      "metadata": {
        "id": "3Eg9jmjLGief",
        "colab": {
          "base_uri": "https://localhost:8080/"
        },
        "outputId": "e7c9096e-e42f-4815-864c-302c8fec63e2"
      },
      "source": [
        "data = np.arange(1, 16).reshape((3, 5))\n",
        "print(data)\n",
        "\n",
        "np.concatenate?\n",
        "arr = np.concatenate((np.zeros([3,1],dtype = int),data),axis =1)\n",
        "arr = np.concatenate((arr,np.zeros([3,1],dtype = int)),axis =1)\n",
        "arr = np.concatenate((np.zeros([1,7],dtype = int),arr),axis =0)\n",
        "arr = np.concatenate((arr,np.zeros([1,7],dtype = int)),axis =0)\n",
        "print(arr)\n",
        "\n",
        "# TODO - реализуйте добавление нулей со всех сторон массива:\n",
        "# [[ 0  0  0  0  0  0  0]\n",
        "#  [ 0  1  2  3  4  5  0]\n",
        "#  [ 0  6  7  8  9 10  0]\n",
        "#  [ 0 11 12 13 14 15  0]\n",
        "#  [ 0  0  0  0  0  0  0]]"
      ],
      "execution_count": null,
      "outputs": [
        {
          "output_type": "stream",
          "text": [
            "[[ 1  2  3  4  5]\n",
            " [ 6  7  8  9 10]\n",
            " [11 12 13 14 15]]\n",
            "[[ 0  0  0  0  0  0  0]\n",
            " [ 0  1  2  3  4  5  0]\n",
            " [ 0  6  7  8  9 10  0]\n",
            " [ 0 11 12 13 14 15  0]\n",
            " [ 0  0  0  0  0  0  0]]\n"
          ],
          "name": "stdout"
        }
      ]
    },
    {
      "cell_type": "markdown",
      "metadata": {
        "id": "dZd4lWT7-A02"
      },
      "source": [
        "Разберитесь с функцией `np.clip()` и произведите ограничение массива, чтобы в нем значения были не более шести и не менее двух:"
      ]
    },
    {
      "cell_type": "code",
      "metadata": {
        "id": "ux991dZdmpS4",
        "colab": {
          "base_uri": "https://localhost:8080/"
        },
        "outputId": "86c99618-f27a-46d3-9d68-77627bd2801a"
      },
      "source": [
        "data = np.arange(1, 16).reshape((3, 5))\n",
        "print(data)\n",
        "print(np.clip(data,2,6))\n",
        "# TODO - ограничьте значения массива\n",
        "# [[2 2 3 4 5]\n",
        "#  [6 6 6 6 6]\n",
        "#  [6 6 6 6 6]]"
      ],
      "execution_count": null,
      "outputs": [
        {
          "output_type": "stream",
          "text": [
            "[[ 1  2  3  4  5]\n",
            " [ 6  7  8  9 10]\n",
            " [11 12 13 14 15]]\n",
            "[[2 2 3 4 5]\n",
            " [6 6 6 6 6]\n",
            " [6 6 6 6 6]]\n"
          ],
          "name": "stdout"
        }
      ]
    },
    {
      "cell_type": "markdown",
      "metadata": {
        "id": "GaK2Wjsc-ufd"
      },
      "source": [
        "Произведите модификацию массива так, чтобы значение в колонке результата соответствовало исходному значению, возведенному в степень индекса колонки:"
      ]
    },
    {
      "cell_type": "code",
      "metadata": {
        "id": "hL1yy-0b-Ned",
        "colab": {
          "base_uri": "https://localhost:8080/"
        },
        "outputId": "17916f1a-a704-44fc-9f2c-481b10a64c1e"
      },
      "source": [
        "data = np.full((3, 5), fill_value=2, dtype=np.int32)\n",
        "print(data)\n",
        "print(np.power(data,np.arange(5)))\n",
        "# TODO - возведите значения в колонках в степень индекса колонки\n",
        "# [[ 1  2  4  8 16]\n",
        "#  [ 1  2  4  8 16]\n",
        "#  [ 1  2  4  8 16]]"
      ],
      "execution_count": null,
      "outputs": [
        {
          "output_type": "stream",
          "text": [
            "[[2 2 2 2 2]\n",
            " [2 2 2 2 2]\n",
            " [2 2 2 2 2]]\n",
            "[[ 1  2  4  8 16]\n",
            " [ 1  2  4  8 16]\n",
            " [ 1  2  4  8 16]]\n"
          ],
          "name": "stdout"
        }
      ]
    },
    {
      "cell_type": "markdown",
      "metadata": {
        "id": "UvwJTfMQE2Eh"
      },
      "source": [
        "Умножьте каждую колонку на ее индекс:"
      ]
    },
    {
      "cell_type": "code",
      "metadata": {
        "id": "hV5rEePyE1VH",
        "colab": {
          "base_uri": "https://localhost:8080/"
        },
        "outputId": "0292e2e1-d6cc-4c09-db55-fc8f26c7a6d8"
      },
      "source": [
        "data = np.full((3, 5), fill_value=2, dtype=np.int32)\n",
        "print(data)\n",
        "print(data*np.arange(5))\n",
        "# TODO - Умножьте каждый столбец на свой индекс\n",
        "# [[0 2 4 6 8]\n",
        "#  [0 2 4 6 8]\n",
        "#  [0 2 4 6 8]]"
      ],
      "execution_count": null,
      "outputs": [
        {
          "output_type": "stream",
          "text": [
            "[[2 2 2 2 2]\n",
            " [2 2 2 2 2]\n",
            " [2 2 2 2 2]]\n",
            "[[0 2 4 6 8]\n",
            " [0 2 4 6 8]\n",
            " [0 2 4 6 8]]\n"
          ],
          "name": "stdout"
        }
      ]
    },
    {
      "cell_type": "markdown",
      "metadata": {
        "id": "VzMibei69GMQ"
      },
      "source": [
        "Умножьте каждый четный ряд в матрице на вектор:"
      ]
    },
    {
      "cell_type": "code",
      "metadata": {
        "id": "BWkmzzWq-O3d",
        "colab": {
          "base_uri": "https://localhost:8080/"
        },
        "outputId": "362e1458-6fed-42fc-de18-5890b12b4ad9"
      },
      "source": [
        "data = np.repeat(np.arange(1, 8), 4).reshape(7, 4)\n",
        "vec = np.array([1, 2, 1, 2])\n",
        "print(data)\n",
        "\n",
        "i = 0\n",
        "for i in range(6):\n",
        "  if np.mod(i,2) == 0:\n",
        "    data[i,:] = data[i,:]*vec\n",
        "print(data)\n",
        "\n",
        "# TODO - умножьте каждый четный ряд в матрице на вектор\n",
        "# [[ 1  2  1  2]\n",
        "#  [ 2  2  2  2]\n",
        "#  [ 3  6  3  6]\n",
        "#  [ 4  4  4  4]\n",
        "#  [ 5 10  5 10]\n",
        "#  [ 6  6  6  6]\n",
        "#  [ 7 14  7 14]]"
      ],
      "execution_count": null,
      "outputs": [
        {
          "output_type": "stream",
          "text": [
            "[[1 1 1 1]\n",
            " [2 2 2 2]\n",
            " [3 3 3 3]\n",
            " [4 4 4 4]\n",
            " [5 5 5 5]\n",
            " [6 6 6 6]\n",
            " [7 7 7 7]]\n",
            "[[ 1  2  1  2]\n",
            " [ 2  2  2  2]\n",
            " [ 3  6  3  6]\n",
            " [ 4  4  4  4]\n",
            " [ 5 10  5 10]\n",
            " [ 6  6  6  6]\n",
            " [ 7  7  7  7]]\n"
          ],
          "name": "stdout"
        }
      ]
    },
    {
      "cell_type": "markdown",
      "metadata": {
        "id": "HkNh2J_BCXgo"
      },
      "source": [
        "Определите индексы двух наибольших элементов в матрице по каждому ряду:"
      ]
    },
    {
      "cell_type": "code",
      "metadata": {
        "id": "oPta0_FI9phV",
        "colab": {
          "base_uri": "https://localhost:8080/"
        },
        "outputId": "37559f74-f006-49f8-b7b8-41e0e22379c9"
      },
      "source": [
        "data = np.array([[20, 22,  2, 14, 25,  8],\n",
        "                [ 7, 25, 23,  3, 22, 15],\n",
        "                [ 8, 16,  9, 22,  0,  9],\n",
        "                [ 4, 24, 24, 28,  3, 40]])\n",
        "print(data)\n",
        "print(np.flip(np.argsort(data),axis = 1)[:,0:2])\n",
        "# TODO - определите индексы двух наибольших элементов по каждому ряду\n",
        "# [[4 1]\n",
        "#  [1 2]\n",
        "#  [3 1]\n",
        "#  [5 3]]"
      ],
      "execution_count": null,
      "outputs": [
        {
          "output_type": "stream",
          "text": [
            "[[20 22  2 14 25  8]\n",
            " [ 7 25 23  3 22 15]\n",
            " [ 8 16  9 22  0  9]\n",
            " [ 4 24 24 28  3 40]]\n",
            "[[4 1]\n",
            " [1 2]\n",
            " [3 1]\n",
            " [5 3]]\n"
          ],
          "name": "stdout"
        }
      ]
    },
    {
      "cell_type": "markdown",
      "metadata": {
        "id": "dHWhvnrxGNbi"
      },
      "source": [
        "Выберите две случайные колонки из массива:\n",
        "\n",
        "<details>\n",
        "<summary>Подсказка 1</summary>\n",
        "\n",
        "Для случайного выбора полезно воспользоваться функцией `np.random.choice()`\n",
        "</details>\n",
        "\n",
        "<details>\n",
        "<summary>Подсказка 2</summary>\n",
        "\n",
        "`np.random.choice()` принимает на вход 1D массив, так что для выбора можно создать массив индексов колонок (`range()` с количеством колонок) и из него функция выберет два случайных индекса\n",
        "</details>"
      ]
    },
    {
      "cell_type": "code",
      "metadata": {
        "id": "QyOXcEMSGWhJ",
        "colab": {
          "base_uri": "https://localhost:8080/"
        },
        "outputId": "489efa92-7d7b-4791-c60a-f864a61b757f"
      },
      "source": [
        "data = np.array([[20, 22,  2, 14, 25,  8],\n",
        "                [ 7, 25, 23,  3, 22, 15],\n",
        "                [ 8, 16,  9, 22,  0,  9],\n",
        "                [ 4, 24, 24, 28,  3, 40]])\n",
        "print(data)\n",
        "print(data[:,np.random.randint(low = 0, high = 5, size = [1,2])])\n",
        "# TODO - выберите случайные две колонки из массива\n",
        "# *Например,\n",
        "# [[22  8]\n",
        "#  [25 15]\n",
        "#  [16  9]\n",
        "#  [24 40]]"
      ],
      "execution_count": null,
      "outputs": [
        {
          "output_type": "stream",
          "text": [
            "[[20 22  2 14 25  8]\n",
            " [ 7 25 23  3 22 15]\n",
            " [ 8 16  9 22  0  9]\n",
            " [ 4 24 24 28  3 40]]\n",
            "[[[22 25]]\n",
            "\n",
            " [[25 22]]\n",
            "\n",
            " [[16  0]]\n",
            "\n",
            " [[24  3]]]\n"
          ],
          "name": "stdout"
        }
      ]
    },
    {
      "cell_type": "markdown",
      "metadata": {
        "id": "2klcFh_wKeZl"
      },
      "source": [
        "Создайте массив размером $(10, 3)$, который состоит из повторяющихся рядов исходного массива:"
      ]
    },
    {
      "cell_type": "code",
      "metadata": {
        "id": "V3iiVqlRKnlw",
        "colab": {
          "base_uri": "https://localhost:8080/"
        },
        "outputId": "5dceb557-073f-49e7-bc90-4a611ebfd458"
      },
      "source": [
        "data = np.arange(9).reshape(3, 3)\n",
        "print(data)\n",
        "y  = data[0:2,:]\n",
        "newdata = np.concatenate((data, y), axis =0 )\n",
        "newdata = np.concatenate((newdata, newdata), axis =0 )\n",
        "print(np.random.permutation(newdata))\n",
        "# TODO - создайте массив из повторяющихся рядов размером (10, 3)\n",
        "# *Например,\n",
        "# [[3 4 5]\n",
        "#  [6 7 8]\n",
        "#  [0 1 2]\n",
        "#  [6 7 8]\n",
        "#  [3 4 5]\n",
        "#  [6 7 8]\n",
        "#  [6 7 8]\n",
        "#  [6 7 8]\n",
        "#  [6 7 8]\n",
        "#  [0 1 2]]"
      ],
      "execution_count": null,
      "outputs": [
        {
          "output_type": "stream",
          "text": [
            "[[0 1 2]\n",
            " [3 4 5]\n",
            " [6 7 8]]\n",
            "[[0 1 2]\n",
            " [0 1 2]\n",
            " [0 1 2]\n",
            " [3 4 5]\n",
            " [0 1 2]\n",
            " [6 7 8]\n",
            " [3 4 5]\n",
            " [6 7 8]\n",
            " [3 4 5]\n",
            " [3 4 5]]\n"
          ],
          "name": "stdout"
        }
      ]
    },
    {
      "cell_type": "markdown",
      "metadata": {
        "id": "SH70EM7FIyqL"
      },
      "source": [
        "Соберите массив, состоящий из элементов 2й и 4й колонок и строк с 1й по 3ю:"
      ]
    },
    {
      "cell_type": "code",
      "metadata": {
        "id": "c6KbqmPBDYaJ",
        "colab": {
          "base_uri": "https://localhost:8080/"
        },
        "outputId": "eed827c2-fe51-40a0-ddf1-8c8a5f5fcf1e"
      },
      "source": [
        "data = np.array([[20, 22,  2, 14, 25,  8],\n",
        "                [ 7, 25, 23,  3, 22, 15],\n",
        "                [ 8, 16,  9, 22,  0,  9],\n",
        "                [ 14, 9,  33, 21,  7,  6],\n",
        "                [ 4, 24, 24, 28,  3, 40]])\n",
        "print(data)\n",
        "data2 = np.array([[data[1,2], data[1,4]],\n",
        "           [data[2,2], data[2,4]],\n",
        "           [data[3,2], data[3,4]]])\n",
        "print(data2)\n",
        "# TODO - соберите матрицу из конкретных элементов массива\n",
        "# [[23 22]\n",
        "#  [ 9  0]\n",
        "#  [33  7]]"
      ],
      "execution_count": null,
      "outputs": [
        {
          "output_type": "stream",
          "text": [
            "[[20 22  2 14 25  8]\n",
            " [ 7 25 23  3 22 15]\n",
            " [ 8 16  9 22  0  9]\n",
            " [14  9 33 21  7  6]\n",
            " [ 4 24 24 28  3 40]]\n",
            "[[23 22]\n",
            " [ 9  0]\n",
            " [33  7]]\n"
          ],
          "name": "stdout"
        }
      ]
    },
    {
      "cell_type": "markdown",
      "metadata": {
        "id": "vS3kwb59Jee2"
      },
      "source": [
        "Инвертируйте порядок элементов в последних двух колонках:"
      ]
    },
    {
      "cell_type": "code",
      "metadata": {
        "id": "wTKNzMf9Jd3g",
        "colab": {
          "base_uri": "https://localhost:8080/"
        },
        "outputId": "d755bc30-72c2-479d-bbcd-074a0c42c975"
      },
      "source": [
        "data = np.array([[20, 22,  2, 14, 25,  8],\n",
        "                [ 7, 25, 23,  3, 22, 15],\n",
        "                [ 8, 16,  9, 22,  0,  9],\n",
        "                [ 14, 9,  33, 21,  7,  6],\n",
        "                [ 4, 24, 24, 28,  3, 40]])\n",
        "print(data)\n",
        "data1 = np.flip(data[:,4:6],axis = 0)\n",
        "data2 = data\n",
        "data2[:,4:6] = data1\n",
        "print(data2)\n",
        "# TODO - инвертируйте порядок последних двух колонок\n",
        "# [[20 22  2 14  3 40]\n",
        "#  [ 7 25 23  3  7  6]\n",
        "#  [ 8 16  9 22  0  9]\n",
        "#  [14  9 33 21 22 15]\n",
        "#  [ 4 24 24 28 25  8]]"
      ],
      "execution_count": null,
      "outputs": [
        {
          "output_type": "stream",
          "text": [
            "[[20 22  2 14 25  8]\n",
            " [ 7 25 23  3 22 15]\n",
            " [ 8 16  9 22  0  9]\n",
            " [14  9 33 21  7  6]\n",
            " [ 4 24 24 28  3 40]]\n",
            "[[20 22  2 14  3 40]\n",
            " [ 7 25 23  3  7  6]\n",
            " [ 8 16  9 22  0  9]\n",
            " [14  9 33 21 22 15]\n",
            " [ 4 24 24 28 25  8]]\n"
          ],
          "name": "stdout"
        }
      ]
    }
  ]
}